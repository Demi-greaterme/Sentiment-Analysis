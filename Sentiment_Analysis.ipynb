{
  "nbformat": 4,
  "nbformat_minor": 0,
  "metadata": {
    "colab": {
      "provenance": [],
      "authorship_tag": "ABX9TyPVcsVRRBOShDr/hqJB+bAN",
      "include_colab_link": true
    },
    "kernelspec": {
      "name": "python3",
      "display_name": "Python 3"
    },
    "language_info": {
      "name": "python"
    }
  },
  "cells": [
    {
      "cell_type": "markdown",
      "metadata": {
        "id": "view-in-github",
        "colab_type": "text"
      },
      "source": [
        "<a href=\"https://colab.research.google.com/github/Demi-greaterme/Sentiment-Analysis/blob/main/Sentiment_Analysis.ipynb\" target=\"_parent\"><img src=\"https://colab.research.google.com/assets/colab-badge.svg\" alt=\"Open In Colab\"/></a>"
      ]
    },
    {
      "cell_type": "code",
      "source": [
        "# Importing necessary libraries\n",
        "\n",
        "!pip install newspaper3k\n",
        "!pip install nltk\n",
        "!pip install lxml_html_clean\n",
        "!pip install spacy\n",
        "import nltk\n",
        "import spacy\n",
        "import re\n",
        "from newspaper import Article\n",
        "nltk.download('punkt_tab')"
      ],
      "metadata": {
        "colab": {
          "base_uri": "https://localhost:8080/"
        },
        "collapsed": true,
        "id": "gqg78V1mAsp4",
        "outputId": "dfdf829a-f435-49be-bdd0-2b63f34086e9"
      },
      "execution_count": 31,
      "outputs": [
        {
          "output_type": "stream",
          "name": "stdout",
          "text": [
            "Requirement already satisfied: newspaper3k in /usr/local/lib/python3.11/dist-packages (0.2.8)\n",
            "Requirement already satisfied: beautifulsoup4>=4.4.1 in /usr/local/lib/python3.11/dist-packages (from newspaper3k) (4.13.4)\n",
            "Requirement already satisfied: Pillow>=3.3.0 in /usr/local/lib/python3.11/dist-packages (from newspaper3k) (11.2.1)\n",
            "Requirement already satisfied: PyYAML>=3.11 in /usr/local/lib/python3.11/dist-packages (from newspaper3k) (6.0.2)\n",
            "Requirement already satisfied: cssselect>=0.9.2 in /usr/local/lib/python3.11/dist-packages (from newspaper3k) (1.3.0)\n",
            "Requirement already satisfied: lxml>=3.6.0 in /usr/local/lib/python3.11/dist-packages (from newspaper3k) (5.4.0)\n",
            "Requirement already satisfied: nltk>=3.2.1 in /usr/local/lib/python3.11/dist-packages (from newspaper3k) (3.9.1)\n",
            "Requirement already satisfied: requests>=2.10.0 in /usr/local/lib/python3.11/dist-packages (from newspaper3k) (2.32.3)\n",
            "Requirement already satisfied: feedparser>=5.2.1 in /usr/local/lib/python3.11/dist-packages (from newspaper3k) (6.0.11)\n",
            "Requirement already satisfied: tldextract>=2.0.1 in /usr/local/lib/python3.11/dist-packages (from newspaper3k) (5.3.0)\n",
            "Requirement already satisfied: feedfinder2>=0.0.4 in /usr/local/lib/python3.11/dist-packages (from newspaper3k) (0.0.4)\n",
            "Requirement already satisfied: jieba3k>=0.35.1 in /usr/local/lib/python3.11/dist-packages (from newspaper3k) (0.35.1)\n",
            "Requirement already satisfied: python-dateutil>=2.5.3 in /usr/local/lib/python3.11/dist-packages (from newspaper3k) (2.9.0.post0)\n",
            "Requirement already satisfied: tinysegmenter==0.3 in /usr/local/lib/python3.11/dist-packages (from newspaper3k) (0.3)\n",
            "Requirement already satisfied: soupsieve>1.2 in /usr/local/lib/python3.11/dist-packages (from beautifulsoup4>=4.4.1->newspaper3k) (2.7)\n",
            "Requirement already satisfied: typing-extensions>=4.0.0 in /usr/local/lib/python3.11/dist-packages (from beautifulsoup4>=4.4.1->newspaper3k) (4.13.2)\n",
            "Requirement already satisfied: six in /usr/local/lib/python3.11/dist-packages (from feedfinder2>=0.0.4->newspaper3k) (1.17.0)\n",
            "Requirement already satisfied: sgmllib3k in /usr/local/lib/python3.11/dist-packages (from feedparser>=5.2.1->newspaper3k) (1.0.0)\n",
            "Requirement already satisfied: click in /usr/local/lib/python3.11/dist-packages (from nltk>=3.2.1->newspaper3k) (8.2.1)\n",
            "Requirement already satisfied: joblib in /usr/local/lib/python3.11/dist-packages (from nltk>=3.2.1->newspaper3k) (1.5.0)\n",
            "Requirement already satisfied: regex>=2021.8.3 in /usr/local/lib/python3.11/dist-packages (from nltk>=3.2.1->newspaper3k) (2024.11.6)\n",
            "Requirement already satisfied: tqdm in /usr/local/lib/python3.11/dist-packages (from nltk>=3.2.1->newspaper3k) (4.67.1)\n",
            "Requirement already satisfied: charset-normalizer<4,>=2 in /usr/local/lib/python3.11/dist-packages (from requests>=2.10.0->newspaper3k) (3.4.2)\n",
            "Requirement already satisfied: idna<4,>=2.5 in /usr/local/lib/python3.11/dist-packages (from requests>=2.10.0->newspaper3k) (3.10)\n",
            "Requirement already satisfied: urllib3<3,>=1.21.1 in /usr/local/lib/python3.11/dist-packages (from requests>=2.10.0->newspaper3k) (2.4.0)\n",
            "Requirement already satisfied: certifi>=2017.4.17 in /usr/local/lib/python3.11/dist-packages (from requests>=2.10.0->newspaper3k) (2025.4.26)\n",
            "Requirement already satisfied: requests-file>=1.4 in /usr/local/lib/python3.11/dist-packages (from tldextract>=2.0.1->newspaper3k) (2.1.0)\n",
            "Requirement already satisfied: filelock>=3.0.8 in /usr/local/lib/python3.11/dist-packages (from tldextract>=2.0.1->newspaper3k) (3.18.0)\n",
            "Requirement already satisfied: nltk in /usr/local/lib/python3.11/dist-packages (3.9.1)\n",
            "Requirement already satisfied: click in /usr/local/lib/python3.11/dist-packages (from nltk) (8.2.1)\n",
            "Requirement already satisfied: joblib in /usr/local/lib/python3.11/dist-packages (from nltk) (1.5.0)\n",
            "Requirement already satisfied: regex>=2021.8.3 in /usr/local/lib/python3.11/dist-packages (from nltk) (2024.11.6)\n",
            "Requirement already satisfied: tqdm in /usr/local/lib/python3.11/dist-packages (from nltk) (4.67.1)\n",
            "Requirement already satisfied: lxml_html_clean in /usr/local/lib/python3.11/dist-packages (0.4.2)\n",
            "Requirement already satisfied: lxml in /usr/local/lib/python3.11/dist-packages (from lxml_html_clean) (5.4.0)\n",
            "Requirement already satisfied: spacy in /usr/local/lib/python3.11/dist-packages (3.8.6)\n",
            "Requirement already satisfied: spacy-legacy<3.1.0,>=3.0.11 in /usr/local/lib/python3.11/dist-packages (from spacy) (3.0.12)\n",
            "Requirement already satisfied: spacy-loggers<2.0.0,>=1.0.0 in /usr/local/lib/python3.11/dist-packages (from spacy) (1.0.5)\n",
            "Requirement already satisfied: murmurhash<1.1.0,>=0.28.0 in /usr/local/lib/python3.11/dist-packages (from spacy) (1.0.12)\n",
            "Requirement already satisfied: cymem<2.1.0,>=2.0.2 in /usr/local/lib/python3.11/dist-packages (from spacy) (2.0.11)\n",
            "Requirement already satisfied: preshed<3.1.0,>=3.0.2 in /usr/local/lib/python3.11/dist-packages (from spacy) (3.0.9)\n",
            "Requirement already satisfied: thinc<8.4.0,>=8.3.4 in /usr/local/lib/python3.11/dist-packages (from spacy) (8.3.6)\n",
            "Requirement already satisfied: wasabi<1.2.0,>=0.9.1 in /usr/local/lib/python3.11/dist-packages (from spacy) (1.1.3)\n",
            "Requirement already satisfied: srsly<3.0.0,>=2.4.3 in /usr/local/lib/python3.11/dist-packages (from spacy) (2.5.1)\n",
            "Requirement already satisfied: catalogue<2.1.0,>=2.0.6 in /usr/local/lib/python3.11/dist-packages (from spacy) (2.0.10)\n",
            "Requirement already satisfied: weasel<0.5.0,>=0.1.0 in /usr/local/lib/python3.11/dist-packages (from spacy) (0.4.1)\n",
            "Requirement already satisfied: typer<1.0.0,>=0.3.0 in /usr/local/lib/python3.11/dist-packages (from spacy) (0.15.3)\n",
            "Requirement already satisfied: tqdm<5.0.0,>=4.38.0 in /usr/local/lib/python3.11/dist-packages (from spacy) (4.67.1)\n",
            "Requirement already satisfied: numpy>=1.19.0 in /usr/local/lib/python3.11/dist-packages (from spacy) (2.0.2)\n",
            "Requirement already satisfied: requests<3.0.0,>=2.13.0 in /usr/local/lib/python3.11/dist-packages (from spacy) (2.32.3)\n",
            "Requirement already satisfied: pydantic!=1.8,!=1.8.1,<3.0.0,>=1.7.4 in /usr/local/lib/python3.11/dist-packages (from spacy) (2.11.4)\n",
            "Requirement already satisfied: jinja2 in /usr/local/lib/python3.11/dist-packages (from spacy) (3.1.6)\n",
            "Requirement already satisfied: setuptools in /usr/local/lib/python3.11/dist-packages (from spacy) (75.2.0)\n",
            "Requirement already satisfied: packaging>=20.0 in /usr/local/lib/python3.11/dist-packages (from spacy) (24.2)\n",
            "Requirement already satisfied: langcodes<4.0.0,>=3.2.0 in /usr/local/lib/python3.11/dist-packages (from spacy) (3.5.0)\n",
            "Requirement already satisfied: language-data>=1.2 in /usr/local/lib/python3.11/dist-packages (from langcodes<4.0.0,>=3.2.0->spacy) (1.3.0)\n",
            "Requirement already satisfied: annotated-types>=0.6.0 in /usr/local/lib/python3.11/dist-packages (from pydantic!=1.8,!=1.8.1,<3.0.0,>=1.7.4->spacy) (0.7.0)\n",
            "Requirement already satisfied: pydantic-core==2.33.2 in /usr/local/lib/python3.11/dist-packages (from pydantic!=1.8,!=1.8.1,<3.0.0,>=1.7.4->spacy) (2.33.2)\n",
            "Requirement already satisfied: typing-extensions>=4.12.2 in /usr/local/lib/python3.11/dist-packages (from pydantic!=1.8,!=1.8.1,<3.0.0,>=1.7.4->spacy) (4.13.2)\n",
            "Requirement already satisfied: typing-inspection>=0.4.0 in /usr/local/lib/python3.11/dist-packages (from pydantic!=1.8,!=1.8.1,<3.0.0,>=1.7.4->spacy) (0.4.1)\n",
            "Requirement already satisfied: charset-normalizer<4,>=2 in /usr/local/lib/python3.11/dist-packages (from requests<3.0.0,>=2.13.0->spacy) (3.4.2)\n",
            "Requirement already satisfied: idna<4,>=2.5 in /usr/local/lib/python3.11/dist-packages (from requests<3.0.0,>=2.13.0->spacy) (3.10)\n",
            "Requirement already satisfied: urllib3<3,>=1.21.1 in /usr/local/lib/python3.11/dist-packages (from requests<3.0.0,>=2.13.0->spacy) (2.4.0)\n",
            "Requirement already satisfied: certifi>=2017.4.17 in /usr/local/lib/python3.11/dist-packages (from requests<3.0.0,>=2.13.0->spacy) (2025.4.26)\n",
            "Requirement already satisfied: blis<1.4.0,>=1.3.0 in /usr/local/lib/python3.11/dist-packages (from thinc<8.4.0,>=8.3.4->spacy) (1.3.0)\n",
            "Requirement already satisfied: confection<1.0.0,>=0.0.1 in /usr/local/lib/python3.11/dist-packages (from thinc<8.4.0,>=8.3.4->spacy) (0.1.5)\n",
            "Requirement already satisfied: click>=8.0.0 in /usr/local/lib/python3.11/dist-packages (from typer<1.0.0,>=0.3.0->spacy) (8.2.1)\n",
            "Requirement already satisfied: shellingham>=1.3.0 in /usr/local/lib/python3.11/dist-packages (from typer<1.0.0,>=0.3.0->spacy) (1.5.4)\n",
            "Requirement already satisfied: rich>=10.11.0 in /usr/local/lib/python3.11/dist-packages (from typer<1.0.0,>=0.3.0->spacy) (13.9.4)\n",
            "Requirement already satisfied: cloudpathlib<1.0.0,>=0.7.0 in /usr/local/lib/python3.11/dist-packages (from weasel<0.5.0,>=0.1.0->spacy) (0.21.1)\n",
            "Requirement already satisfied: smart-open<8.0.0,>=5.2.1 in /usr/local/lib/python3.11/dist-packages (from weasel<0.5.0,>=0.1.0->spacy) (7.1.0)\n",
            "Requirement already satisfied: MarkupSafe>=2.0 in /usr/local/lib/python3.11/dist-packages (from jinja2->spacy) (3.0.2)\n",
            "Requirement already satisfied: marisa-trie>=1.1.0 in /usr/local/lib/python3.11/dist-packages (from language-data>=1.2->langcodes<4.0.0,>=3.2.0->spacy) (1.2.1)\n",
            "Requirement already satisfied: markdown-it-py>=2.2.0 in /usr/local/lib/python3.11/dist-packages (from rich>=10.11.0->typer<1.0.0,>=0.3.0->spacy) (3.0.0)\n",
            "Requirement already satisfied: pygments<3.0.0,>=2.13.0 in /usr/local/lib/python3.11/dist-packages (from rich>=10.11.0->typer<1.0.0,>=0.3.0->spacy) (2.19.1)\n",
            "Requirement already satisfied: wrapt in /usr/local/lib/python3.11/dist-packages (from smart-open<8.0.0,>=5.2.1->weasel<0.5.0,>=0.1.0->spacy) (1.17.2)\n",
            "Requirement already satisfied: mdurl~=0.1 in /usr/local/lib/python3.11/dist-packages (from markdown-it-py>=2.2.0->rich>=10.11.0->typer<1.0.0,>=0.3.0->spacy) (0.1.2)\n"
          ]
        },
        {
          "output_type": "stream",
          "name": "stderr",
          "text": [
            "[nltk_data] Downloading package punkt_tab to /root/nltk_data...\n",
            "[nltk_data]   Package punkt_tab is already up-to-date!\n"
          ]
        },
        {
          "output_type": "execute_result",
          "data": {
            "text/plain": [
              "True"
            ]
          },
          "metadata": {},
          "execution_count": 31
        }
      ]
    },
    {
      "cell_type": "code",
      "source": [
        "# Scraping sentences\n",
        "\n",
        "URL = \"https://www.chilkatvalleynews.com/2025/05/15/haines-man-finds-long-lost-father-in-scotland/?src=longreads\"\n",
        "\n",
        "article = Article(URL)\n",
        "article.download()\n",
        "article.parse()\n",
        "article.nlp()\n",
        "\n",
        "text = article.text\n",
        "print(text)"
      ],
      "metadata": {
        "colab": {
          "base_uri": "https://localhost:8080/"
        },
        "collapsed": true,
        "id": "X2ULUN0jQNFA",
        "outputId": "9a76e3bc-04ce-41f0-e020-7d2f1282ca93"
      },
      "execution_count": 28,
      "outputs": [
        {
          "output_type": "stream",
          "name": "stdout",
          "text": [
            "Mike Thompson shows a picture of Laurence James and Stephen Winn, April 26, 2025. (Will Steinfeld/Chilkat Valley News)\n",
            "\n",
            "Stephen Winn died on Monday in Nairn, a small beach town in Scotland. From Nairn, a social worker placed a call to another small, rainy town, half a world away, to notify Winn’s son, Mike Thompson, of Haines. Thompson said he was glad to hear that his father passed peacefully and without pain; Winn had recently told his son that his life was a good life – an easy life – without the physical work and accompanying aches and pain his son carries.\n",
            "\n",
            "Until the news, Thompson had been considering a move to Scotland, pending a DNA test that would have established Winn’s paternity. With that he could have applied for Scottish citizenship. Now, he’ll never know. But for Thompson, the test was always just a formality. He was confident what the result would have been.\n",
            "\n",
            "Thompson, though he likes to greet people with “g’day,” is a lifelong Alaskan. He retired to Haines this year, to a home next to the fort with a fifteen foot-tall picture window in the living room. And while the home is still in varying states of unpacking, there’s a neatly arranged trail of how Thompson arrived there.\n",
            "\n",
            "Through the entryway is a wall of certificates and mementos from Thompson’s service, as a park ranger, fighter pilot, and air marshal, all hung plumb and level. Across is a staircase down to the basement, which, if it weren’t underground, could easily pass for REI’s first Haines showroom. Packs are hung on racks, gear arranged by category. Two hyper-insulated sleeping bags are laid out perfectly parallel. They’re the ones Thompson said he used to summit Denali, twice. That meticulous care is matched only in one other place in the house, upstairs in the TV room. There, like El Dorado in a wilderness of packing material, is a collection of well over 100 DVDs and blu-ray movies, arranged neatly on a long shelf.\n",
            "\n",
            "Perhaps it’s not surprising that Thompson, a man whose father traveled the world modeling Italian designer clothing, would appreciate some material luxuries, like a well-curated vintage movie collection. While his father was supposedly driving Porsches and cashing paychecks from GQ Magazine, Thompson was growing up the only son of a nurse in Anchorage. At least, that was the story of his father his mother told.\n",
            "\n",
            "“She told me this story of a guy she met at a New Year’s Party in New York City, 1963,” Thompson said. “That he had this accent, he was this dashing guy – a model – and I’m like, come on. Like, why are you making this up?”\n",
            "\n",
            "Photo of Stephen Winn, courtesy Mike Thompson\n",
            "\n",
            "Thompson’s mother had been “castigated,” he said, for having a child out of wedlock. After he was born, they left her East Coast family behind. “We lived in California for a while, and then Anchorage,” Thompson says. “Just me and my mom, an only child and a single parent.” Meanwhile, Thompson’s father was supposedly in any number of places: Switzerland, New York, L.A. – wherever business called.\n",
            "\n",
            "Thompson’s mother never told him his father’s name. She could have forgotten, but Thompson always figured it was more likely she was embarrassed. He said even now, he doesn’t have more of an explanation, from her point of view at least. She died in 2020 of COVID, and had dementia. As her memory faded, Thompson says, he came to terms with never knowing the truth about his father.\n",
            "\n",
            "But growing up, he says, he resented the version she told him. “Making some story up made me feel worse,” Thompson says. “That I’m a bastard, or whatever.”\n",
            "\n",
            "There was a moment in his early twenties where Thompson says he briefly believed it, after his mother mailed a clipping of an advertisement from GQ, of a man sipping from a glass. That’s him, she told Thompson.\n",
            "\n",
            "“I opened it up and there was this guy, drinking stuff, and there’s a beautiful woman,” Thompson says. “And I was like, oh my god, he does look like me.”\n",
            "\n",
            "It was the first time his mother had ever given him a solid lead, so he started digging. He called GQ, but was quickly stonewalled. They refused to tell him the name of the model, he says, even after he explained the circumstances. He eventually dropped the search. Somewhere along the line, he lost the clipping. That was case-closed. At least, until two months ago.\n",
            "\n",
            "Thompson doesn’t exactly come across as the son of a GQ model. He’s more likely to be outdoors, and dressed for it, biking almost every day out Lutak. His list of former ranger posts is a paragraph long and half a continent across: Girdwood, Yakutat, Sitka, Denali, Ketchikan. Then up to “the big leagues,” as he describes the National Park Service, working posts in Utah, the Cascades, Western Arctic National Park, Kenai Fjords, and Wrangell St. Elias, where he would fly patrols in a single-engine Supercub as one of three rangers responsible for a land area 20 times larger than the state of Rhode Island. Before his career as a park ranger, Thompson spent half a decade as a Federal Air Marshall, and before that was an Air Force aviator.\n",
            "\n",
            "Thompson speculates that it was these decades of law enforcement and military training that made him wary of the message he received out of the blue in December 2023.\n",
            "\n",
            "Hi Mike, nice to meet you, the message read. We have 26% shared DNA and it says you are my first cousin… it would be great to connect.\n",
            "\n",
            "Thompson had submitted a DNA sample to the genealogy website Ancestry.com in 2019, four years before. He says he hadn’t been looking for his father, but the DNA sample was a last-ditch shot. “I figured if I could ever find my dad, this would be the way, with all the technology now,” Thompson said.\n",
            "\n",
            "The message was from a man in London with two first names, Laurence James. And according to James, he was related on Thompson’s paternal side. Thompson opened with his go-to greeting. “G’day Laurence,” he began.\n",
            "\n",
            "They went back and forth for a few days. James was eager to share names of other family members, various distant cousins and aunts and uncles, that he had found through the website. Thompson was polite, but soon stopped responding. As the names stacked up they lost meaning, and there was no information about his father. “[In law enforcement], I had to deal with all these scams,” Thompson says. “I was just waiting for him to ask for my credit card info.”\n",
            "\n",
            "When Thompson showed me the chat history, it was a wall of messages from James. The so-called cousin was undeterred, updating Thompson with new family information he had supposedly found, dropping that information into a void of nothing but his own delivered messages.\n",
            "\n",
            "In June 2024, the messages grew more persistent, asking to connect about new information. One of multiple similar ones read: “Hi Mike, how are you? Thought I’d drop you another line to see if you would be open to speaking on the phone. We could then perhaps establish how we are related. Cheers, Laurence.”\n",
            "\n",
            "Months later, deep into the winter, Thompson logged back into the app and gave James a phone number to call. Once on the phone, James delivered the news he had so persistently been trying to deliver: according to the DNA testing, they were brothers. Half-brothers, to be exact, but half-brothers with a shared father. And James, though he didn’t grow up with their father, claimed he knew him, and had a relationship with him. It was Stephen Winn.\n",
            "\n",
            "Thompson says it was comfortable and not awkward talking to James, right off the bat. So comfortable that they spoke for what he estimates was six hours. All the information James had about Winn matched Thompson’s mother’s story: Stephen Winn had been in New York, doing fancy commercials. He drove fast cars. He even auditioned to be James Bond after Sean Connery, James said.\n",
            "\n",
            "Photo of Stephen Winn, courtesy Mike Thompson\n",
            "\n",
            "As soon as they hung up, Thompson began making plans to go to Scotland. All the while, information from James kept coming in, including old pictures of their father, and then pictures of James with their father in Scotland. It was hard to argue with that.\n",
            "\n",
            "But then, Thompson says, it began to get “a little weird.” James had asked for photos of Thompson and his mother to use in breaking the news of a new son to Winn. Thompson kept waiting for a further update, but it never came. Their father was 93 and in poor health, James explained. He wanted to be delicate. A few days turned into a week, which turned into a month.\n",
            "\n",
            "By March, Thompson was fed up, waiting for a moment he had long given up waiting for. He describes a vague haze of messages from James: dementia, strokes, waiting until the summer to break the news. He decided to make the connection on his own.\n",
            "\n",
            "It was in Colorado, on a trip visiting a friend from the Park Service, when things turned. Thompson was updating the friend on the recent events, and at some point he pulled out his phone to show the friend a picture of James and their father.\n",
            "\n",
            "The photo shows two men in front of blank white walls, over a blank white tablecloth, in front of a window looking out on an empty blue ocean. Almost completely without identifying features – almost.\n",
            "\n",
            "“I know where that is.” Thompson’s friend immediately identified it as the Sundancer restaurant in Nairn, a beach town in Scotland where the friend had just vacationed. Sure enough, when they zoomed in on the photo, the one menu had a small Sundancer logo.\n",
            "\n",
            "With both a name and a place, Thompson got a foothold. Soon he had an address from a voting record, and it was time, he decided, to stop waiting.\n",
            "\n",
            "Within a week he was on a flight from Denver to London, and then on an overnight train north to Nairn. Barely even stopping to put his bags down, he was back out to the street. By 10 a.m. he was there: on Cumming Street, two oceans away from his home, standing in front of what was supposedly his father’s house.\n",
            "\n",
            "“It looked familiar from a picture Laurence sent,” Thompson recalls. “Down to all the plants in the garden and everything.” There was nothing else to do but knock on the front door.\n",
            "\n",
            "Thompson knocked, but got no answer. The front shades weren’t drawn, so he looked inside. On the sill was a piece of paper, a hospital entry form. Thompson took a photo of it, to zoom in and read the text, which he still has. The form was his father’s.\n",
            "\n",
            "“He died,” Thompson remembers thinking, suddenly standing very alone in the walled-off garden of the old stone house. “I missed him.”\n",
            "\n",
            "Just then, as Thompson tells it, a man pulled up, got out of his car and asked him why he was snooping around the house. It was yet another child of Winn’s – a stepson from a later marriage. “Your dad is in Inverness Hospital on the seventh floor in the respiratory unit,” Thompson remembers the man saying, after Thompson explained. By the time he got to the seventh floor of the hospital, his hands were shaking.\n",
            "\n",
            "“The nurse pointed me to this room across the hall,” Thompson remembers. “And then right there, I get the first look at my father in my 61 years of life.”\n",
            "\n",
            "Thompson, ever the retired law enforcement officer, introduced himself to the man he believed to be his father with what he calls an “initial verification check.” He walked into the room and introduced himself as just a friend of James’, at first, and asked Winn about his life. Winn talked about living in New York, of modeling, of driving Porsches. From what Thompson describes, it was mostly Stephen Winn talking about Stephen Winn. But for Thompson, it was more than that.\n",
            "\n",
            "“He filled in all the blank spots in my life,” Thompson said. Satisfied that the man couldn’t be anyone but his father, broke the news.\n",
            "\n",
            "“Makes sense,” was Winn’s response to his son. He said he had seen a resemblance. It wasn’t how Thompson had pictured delivering the news, sitting in a hospital ward with somewhere around eight other patients in the room, shouting, as he describes it, into the ear of his mostly deaf father. But still, he had done it.\n",
            "\n",
            "Thompson says he spent every day from March 27 until April 15 in the hospital. James and his son came one of the weekends, and he and Thompson spent time together. Thompson had thought the odd communication might have been over an inheritance issue, and he clarifies now he has no interest in money. After meeting, he felt confident James was really just trying to protect his father. “We reconciled completely,” Thompson said. “It was wonderful.”\n",
            "\n",
            "Telling the story, Thompson returns, again and again, to his mother. He wanted Winn to remember her, and showed him a picture of her right away when they met. “It would’ve been really great if she was alive, but [because of her dementia], she wouldn’t have known who he was. I gained a parent, which is something I never would’ve conceived of.”\n",
            "\n",
            "Winn said he remembered Thompson’s mother, even claiming he had known she was pregnant. He supposedly asked her to come to Italy with him when he left New York, though he didn’t recognize the photo at first when Thompson showed it to him.\n",
            "\n",
            "Like Thompson’s mother, Winn also had dementia. Good days and bad days, Thompson said, two weeks ago. “He’s living in the 60s, the 70s, reminiscing. He still wants to be smoking and drinking like he’s James Bond. It’s not good for his health.” Still, when he went into the hospital, Thompson said his father would announce it to the nurses: “That’s Michael, my son. He’s from Alaska.” Those words meant a lot to Thompson. He said that even though he had come to terms with never finding his father, meeting him was “life changing.”\n",
            "\n",
            "When asked what was so special about meeting someone who, apart from DNA strands, was a stranger, Thompson, a sure talker, paused, started, and stopped a few times. “He gave me hours of information. You know, I mean, he’s the guy – it’s your father, and it doesn’t really matter how long or what happened in between.”\n",
            "\n",
            "Even though Thompson says it doesn’t matter what happened in between, he does marvel at what could have been, how close their tracks ran without ever crossing. Like 31 years earlier, when Thompson had taken a season to hike and climb in the Scottish Highlands. Along the way he met a woman who had taken him to her parents’ house, which happened to be in Nairn. He remembers a road by the Nairn golf course parking lot, running down to the beach, walled on either side by old stone houses.It was Cummings Road, where Winn was living at the time. On that one day 31 years ago, they were side by side. “I could’ve been 30 feet from him,” Thompson said. “And we walked right by.”\n",
            "\n",
            "On his last morning in Nairn, Thompson said his father pleaded with him. “Don’t leave me in this hospital,” Thompson remembers, describing it as “upsetting.” Winn wanted so badly to go with him to Alaska, Thompson said. “To see where his son lived his life.” But the logistics – the transport and the available medical care in rural Alaska – made that impossible.\n",
            "\n",
            "Thompson left, and eventually his father was discharged from the hospital. He had been recovering after a fall, but even before then had been a frequent flier in recent years for a variety of issues. “I’m lonely here,” he told Thompson, that last day they were together. When he returned home to Cumming Street, it was largely the same, except for a nurse who took care of him. With Winn’s poor hearing and old phone, that nurse was the only way Thompson could get in touch. Even then, he said, he would be shouting to try to get sound across the distance between them.\n",
            "\n",
            "For a long time, Thompson had no story to tell about his father, at least not one he believed. The one he has now is just about as improbable as the kid with the James Bond dad. It’s a story with amazing coincidences, at just the right times for two paths to cross. And it’s Thompson’s story to tell, with his father gone, and Laurence James, who didn’t respond to attempts to contact him.\n",
            "\n",
            "No doubt Thompson has a lifetime of stories already, from flying fighter jets and solo bush patrols. But this is the one he’s been putting together the longest. If it were just about telling people and convincing them of its truth, he has plenty of photos as evidence. It doesn’t seem that’s what this is, and Thompson wasn’t under the impression the story was over, having planned to be back in Scotland until the news this week. Those plans for the future will likely change.\n",
            "\n",
            "Thompson has been back in Haines now for about a month. He’s napped off the jetlag in front of the big picture window, and has started to arrange decades of things in the rooms he now has to himself. He doesn’t seem to have a taste for fast cars or designer clothes. But he does have a claw-foot tub under a window that perfectly frames the peak of Ripinsky/Geisan, chopsticks from his time living in Japan, framed pictures from the Arctic, mementos from Utah, and a wall of certificates from what would ordinarily be the resumés of four different people. And he has a father.\n",
            "\n",
            "Sitting at his kitchen table two weeks ago, he held his hand out in front of him and crossed two fingers together, to mime out the end of what he told me. “We’re just father and son now,” he said.\n"
          ]
        }
      ]
    },
    {
      "cell_type": "code",
      "source": [
        "# Splitting text into sentences\n",
        "\n",
        "nlp = spacy.load(\"en_core_web_sm\")\n",
        "doc = nlp(text)\n",
        "sentences = [sent.text.strip() for sent in doc.sents]\n",
        "print(len(sentences))"
      ],
      "metadata": {
        "colab": {
          "base_uri": "https://localhost:8080/"
        },
        "collapsed": true,
        "id": "PEXdcmGY-lrn",
        "outputId": "e191a96d-fac0-49a6-8c73-d0108d8081c6"
      },
      "execution_count": 29,
      "outputs": [
        {
          "output_type": "stream",
          "name": "stdout",
          "text": [
            "Requirement already satisfied: spacy in /usr/local/lib/python3.11/dist-packages (3.8.6)\n",
            "Requirement already satisfied: spacy-legacy<3.1.0,>=3.0.11 in /usr/local/lib/python3.11/dist-packages (from spacy) (3.0.12)\n",
            "Requirement already satisfied: spacy-loggers<2.0.0,>=1.0.0 in /usr/local/lib/python3.11/dist-packages (from spacy) (1.0.5)\n",
            "Requirement already satisfied: murmurhash<1.1.0,>=0.28.0 in /usr/local/lib/python3.11/dist-packages (from spacy) (1.0.12)\n",
            "Requirement already satisfied: cymem<2.1.0,>=2.0.2 in /usr/local/lib/python3.11/dist-packages (from spacy) (2.0.11)\n",
            "Requirement already satisfied: preshed<3.1.0,>=3.0.2 in /usr/local/lib/python3.11/dist-packages (from spacy) (3.0.9)\n",
            "Requirement already satisfied: thinc<8.4.0,>=8.3.4 in /usr/local/lib/python3.11/dist-packages (from spacy) (8.3.6)\n",
            "Requirement already satisfied: wasabi<1.2.0,>=0.9.1 in /usr/local/lib/python3.11/dist-packages (from spacy) (1.1.3)\n",
            "Requirement already satisfied: srsly<3.0.0,>=2.4.3 in /usr/local/lib/python3.11/dist-packages (from spacy) (2.5.1)\n",
            "Requirement already satisfied: catalogue<2.1.0,>=2.0.6 in /usr/local/lib/python3.11/dist-packages (from spacy) (2.0.10)\n",
            "Requirement already satisfied: weasel<0.5.0,>=0.1.0 in /usr/local/lib/python3.11/dist-packages (from spacy) (0.4.1)\n",
            "Requirement already satisfied: typer<1.0.0,>=0.3.0 in /usr/local/lib/python3.11/dist-packages (from spacy) (0.15.3)\n",
            "Requirement already satisfied: tqdm<5.0.0,>=4.38.0 in /usr/local/lib/python3.11/dist-packages (from spacy) (4.67.1)\n",
            "Requirement already satisfied: numpy>=1.19.0 in /usr/local/lib/python3.11/dist-packages (from spacy) (2.0.2)\n",
            "Requirement already satisfied: requests<3.0.0,>=2.13.0 in /usr/local/lib/python3.11/dist-packages (from spacy) (2.32.3)\n",
            "Requirement already satisfied: pydantic!=1.8,!=1.8.1,<3.0.0,>=1.7.4 in /usr/local/lib/python3.11/dist-packages (from spacy) (2.11.4)\n",
            "Requirement already satisfied: jinja2 in /usr/local/lib/python3.11/dist-packages (from spacy) (3.1.6)\n",
            "Requirement already satisfied: setuptools in /usr/local/lib/python3.11/dist-packages (from spacy) (75.2.0)\n",
            "Requirement already satisfied: packaging>=20.0 in /usr/local/lib/python3.11/dist-packages (from spacy) (24.2)\n",
            "Requirement already satisfied: langcodes<4.0.0,>=3.2.0 in /usr/local/lib/python3.11/dist-packages (from spacy) (3.5.0)\n",
            "Requirement already satisfied: language-data>=1.2 in /usr/local/lib/python3.11/dist-packages (from langcodes<4.0.0,>=3.2.0->spacy) (1.3.0)\n",
            "Requirement already satisfied: annotated-types>=0.6.0 in /usr/local/lib/python3.11/dist-packages (from pydantic!=1.8,!=1.8.1,<3.0.0,>=1.7.4->spacy) (0.7.0)\n",
            "Requirement already satisfied: pydantic-core==2.33.2 in /usr/local/lib/python3.11/dist-packages (from pydantic!=1.8,!=1.8.1,<3.0.0,>=1.7.4->spacy) (2.33.2)\n",
            "Requirement already satisfied: typing-extensions>=4.12.2 in /usr/local/lib/python3.11/dist-packages (from pydantic!=1.8,!=1.8.1,<3.0.0,>=1.7.4->spacy) (4.13.2)\n",
            "Requirement already satisfied: typing-inspection>=0.4.0 in /usr/local/lib/python3.11/dist-packages (from pydantic!=1.8,!=1.8.1,<3.0.0,>=1.7.4->spacy) (0.4.1)\n",
            "Requirement already satisfied: charset-normalizer<4,>=2 in /usr/local/lib/python3.11/dist-packages (from requests<3.0.0,>=2.13.0->spacy) (3.4.2)\n",
            "Requirement already satisfied: idna<4,>=2.5 in /usr/local/lib/python3.11/dist-packages (from requests<3.0.0,>=2.13.0->spacy) (3.10)\n",
            "Requirement already satisfied: urllib3<3,>=1.21.1 in /usr/local/lib/python3.11/dist-packages (from requests<3.0.0,>=2.13.0->spacy) (2.4.0)\n",
            "Requirement already satisfied: certifi>=2017.4.17 in /usr/local/lib/python3.11/dist-packages (from requests<3.0.0,>=2.13.0->spacy) (2025.4.26)\n",
            "Requirement already satisfied: blis<1.4.0,>=1.3.0 in /usr/local/lib/python3.11/dist-packages (from thinc<8.4.0,>=8.3.4->spacy) (1.3.0)\n",
            "Requirement already satisfied: confection<1.0.0,>=0.0.1 in /usr/local/lib/python3.11/dist-packages (from thinc<8.4.0,>=8.3.4->spacy) (0.1.5)\n",
            "Requirement already satisfied: click>=8.0.0 in /usr/local/lib/python3.11/dist-packages (from typer<1.0.0,>=0.3.0->spacy) (8.2.1)\n",
            "Requirement already satisfied: shellingham>=1.3.0 in /usr/local/lib/python3.11/dist-packages (from typer<1.0.0,>=0.3.0->spacy) (1.5.4)\n",
            "Requirement already satisfied: rich>=10.11.0 in /usr/local/lib/python3.11/dist-packages (from typer<1.0.0,>=0.3.0->spacy) (13.9.4)\n",
            "Requirement already satisfied: cloudpathlib<1.0.0,>=0.7.0 in /usr/local/lib/python3.11/dist-packages (from weasel<0.5.0,>=0.1.0->spacy) (0.21.1)\n",
            "Requirement already satisfied: smart-open<8.0.0,>=5.2.1 in /usr/local/lib/python3.11/dist-packages (from weasel<0.5.0,>=0.1.0->spacy) (7.1.0)\n",
            "Requirement already satisfied: MarkupSafe>=2.0 in /usr/local/lib/python3.11/dist-packages (from jinja2->spacy) (3.0.2)\n",
            "Requirement already satisfied: marisa-trie>=1.1.0 in /usr/local/lib/python3.11/dist-packages (from language-data>=1.2->langcodes<4.0.0,>=3.2.0->spacy) (1.2.1)\n",
            "Requirement already satisfied: markdown-it-py>=2.2.0 in /usr/local/lib/python3.11/dist-packages (from rich>=10.11.0->typer<1.0.0,>=0.3.0->spacy) (3.0.0)\n",
            "Requirement already satisfied: pygments<3.0.0,>=2.13.0 in /usr/local/lib/python3.11/dist-packages (from rich>=10.11.0->typer<1.0.0,>=0.3.0->spacy) (2.19.1)\n",
            "Requirement already satisfied: wrapt in /usr/local/lib/python3.11/dist-packages (from smart-open<8.0.0,>=5.2.1->weasel<0.5.0,>=0.1.0->spacy) (1.17.2)\n",
            "Requirement already satisfied: mdurl~=0.1 in /usr/local/lib/python3.11/dist-packages (from markdown-it-py>=2.2.0->rich>=10.11.0->typer<1.0.0,>=0.3.0->spacy) (0.1.2)\n"
          ]
        }
      ]
    },
    {
      "cell_type": "code",
      "source": [
        "cleaned_sentences = []\n",
        "for sentence in sentences:\n",
        "  cleaned = re.sub(r'[^a-zA-Z0-9\\s]', '', sentence).strip().lower()\n",
        "  cleaned_sentences.append(cleaned)\n",
        "\n",
        "print(len(cleaned_sentences))\n",
        "print(cleaned_sentences[:2])"
      ],
      "metadata": {
        "colab": {
          "base_uri": "https://localhost:8080/"
        },
        "id": "yVnEhHg1Svif",
        "outputId": "44c2f9d8-763f-4300-a976-4e41bc94bc60"
      },
      "execution_count": 33,
      "outputs": [
        {
          "output_type": "stream",
          "name": "stdout",
          "text": [
            "199\n",
            "['mike thompson shows a picture of laurence james and stephen winn april 26 2025', 'will steinfeldchilkat valley news']\n"
          ]
        }
      ]
    },
    {
      "cell_type": "code",
      "source": [],
      "metadata": {
        "id": "3HTK7Nkjb44e"
      },
      "execution_count": null,
      "outputs": []
    }
  ]
}