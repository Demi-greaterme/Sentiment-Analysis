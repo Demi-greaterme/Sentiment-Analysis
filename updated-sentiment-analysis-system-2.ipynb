{
 "cells": [
  {
   "cell_type": "code",
   "execution_count": 1,
   "id": "45908414",
   "metadata": {
    "_cell_guid": "b1076dfc-b9ad-4769-8c92-a6c4dae69d19",
    "_uuid": "8f2839f25d086af736a60e9eeb907d3b93b6e0e5",
    "execution": {
     "iopub.execute_input": "2025-04-09T14:49:39.719940Z",
     "iopub.status.busy": "2025-04-09T14:49:39.719409Z",
     "iopub.status.idle": "2025-04-09T14:49:40.690826Z",
     "shell.execute_reply": "2025-04-09T14:49:40.689405Z"
    },
    "papermill": {
     "duration": 0.980643,
     "end_time": "2025-04-09T14:49:40.692631",
     "exception": false,
     "start_time": "2025-04-09T14:49:39.711988",
     "status": "completed"
    },
    "tags": []
   },
   "outputs": [
    {
     "name": "stdout",
     "output_type": "stream",
     "text": [
      "/kaggle/input/scraped-data3/SentimentAnalysis (1).csv\n"
     ]
    }
   ],
   "source": [
    "# This Python 3 environment comes with many helpful analytics libraries installed\n",
    "# It is defined by the kaggle/python Docker image: https://github.com/kaggle/docker-python\n",
    "# For example, here's several helpful packages to load\n",
    "\n",
    "import numpy as np # linear algebra\n",
    "import pandas as pd # data processing, CSV file I/O (e.g. pd.read_csv)\n",
    "\n",
    "# Input data files are available in the read-only \"../input/\" directory\n",
    "# For example, running this (by clicking run or pressing Shift+Enter) will list all files under the input directory\n",
    "\n",
    "import os\n",
    "for dirname, _, filenames in os.walk('/kaggle/input'):\n",
    "    for filename in filenames:\n",
    "        print(os.path.join(dirname, filename))\n",
    "\n",
    "# You can write up to 20GB to the current directory (/kaggle/working/) that gets preserved as output when you create a version using \"Save & Run All\" \n",
    "# You can also write temporary files to /kaggle/temp/, but they won't be saved outside of the current session"
   ]
  },
  {
   "cell_type": "code",
   "execution_count": 2,
   "id": "45404733",
   "metadata": {
    "collapsed": true,
    "execution": {
     "iopub.execute_input": "2025-04-09T14:49:40.704625Z",
     "iopub.status.busy": "2025-04-09T14:49:40.704088Z",
     "iopub.status.idle": "2025-04-09T14:50:00.267423Z",
     "shell.execute_reply": "2025-04-09T14:50:00.266166Z"
    },
    "jupyter": {
     "outputs_hidden": true
    },
    "papermill": {
     "duration": 19.571523,
     "end_time": "2025-04-09T14:50:00.269605",
     "exception": false,
     "start_time": "2025-04-09T14:49:40.698082",
     "status": "completed"
    },
    "tags": []
   },
   "outputs": [
    {
     "name": "stdout",
     "output_type": "stream",
     "text": [
      "Collecting newspaper3k\r\n",
      "  Downloading newspaper3k-0.2.8-py3-none-any.whl.metadata (11 kB)\r\n",
      "Requirement already satisfied: beautifulsoup4>=4.4.1 in /usr/local/lib/python3.10/dist-packages (from newspaper3k) (4.12.3)\r\n",
      "Requirement already satisfied: Pillow>=3.3.0 in /usr/local/lib/python3.10/dist-packages (from newspaper3k) (11.0.0)\r\n",
      "Requirement already satisfied: PyYAML>=3.11 in /usr/local/lib/python3.10/dist-packages (from newspaper3k) (6.0.2)\r\n",
      "Collecting cssselect>=0.9.2 (from newspaper3k)\r\n",
      "  Downloading cssselect-1.3.0-py3-none-any.whl.metadata (2.6 kB)\r\n",
      "Requirement already satisfied: lxml>=3.6.0 in /usr/local/lib/python3.10/dist-packages (from newspaper3k) (5.3.0)\r\n",
      "Requirement already satisfied: nltk>=3.2.1 in /usr/local/lib/python3.10/dist-packages (from newspaper3k) (3.2.4)\r\n",
      "Requirement already satisfied: requests>=2.10.0 in /usr/local/lib/python3.10/dist-packages (from newspaper3k) (2.32.3)\r\n",
      "Collecting feedparser>=5.2.1 (from newspaper3k)\r\n",
      "  Downloading feedparser-6.0.11-py3-none-any.whl.metadata (2.4 kB)\r\n",
      "Collecting tldextract>=2.0.1 (from newspaper3k)\r\n",
      "  Downloading tldextract-5.2.0-py3-none-any.whl.metadata (11 kB)\r\n",
      "Collecting feedfinder2>=0.0.4 (from newspaper3k)\r\n",
      "  Downloading feedfinder2-0.0.4.tar.gz (3.3 kB)\r\n",
      "  Preparing metadata (setup.py) ... \u001b[?25l\u001b[?25hdone\r\n",
      "Collecting jieba3k>=0.35.1 (from newspaper3k)\r\n",
      "  Downloading jieba3k-0.35.1.zip (7.4 MB)\r\n",
      "\u001b[2K     \u001b[90m━━━━━━━━━━━━━━━━━━━━━━━━━━━━━━━━━━━━━━━━\u001b[0m \u001b[32m7.4/7.4 MB\u001b[0m \u001b[31m62.5 MB/s\u001b[0m eta \u001b[36m0:00:00\u001b[0m\r\n",
      "\u001b[?25h  Preparing metadata (setup.py) ... \u001b[?25l\u001b[?25hdone\r\n",
      "Requirement already satisfied: python-dateutil>=2.5.3 in /usr/local/lib/python3.10/dist-packages (from newspaper3k) (2.9.0.post0)\r\n",
      "Collecting tinysegmenter==0.3 (from newspaper3k)\r\n",
      "  Downloading tinysegmenter-0.3.tar.gz (16 kB)\r\n",
      "  Preparing metadata (setup.py) ... \u001b[?25l\u001b[?25hdone\r\n",
      "Requirement already satisfied: soupsieve>1.2 in /usr/local/lib/python3.10/dist-packages (from beautifulsoup4>=4.4.1->newspaper3k) (2.6)\r\n",
      "Requirement already satisfied: six in /usr/local/lib/python3.10/dist-packages (from feedfinder2>=0.0.4->newspaper3k) (1.17.0)\r\n",
      "Collecting sgmllib3k (from feedparser>=5.2.1->newspaper3k)\r\n",
      "  Downloading sgmllib3k-1.0.0.tar.gz (5.8 kB)\r\n",
      "  Preparing metadata (setup.py) ... \u001b[?25l\u001b[?25hdone\r\n",
      "Requirement already satisfied: charset-normalizer<4,>=2 in /usr/local/lib/python3.10/dist-packages (from requests>=2.10.0->newspaper3k) (3.4.1)\r\n",
      "Requirement already satisfied: idna<4,>=2.5 in /usr/local/lib/python3.10/dist-packages (from requests>=2.10.0->newspaper3k) (3.10)\r\n",
      "Requirement already satisfied: urllib3<3,>=1.21.1 in /usr/local/lib/python3.10/dist-packages (from requests>=2.10.0->newspaper3k) (2.3.0)\r\n",
      "Requirement already satisfied: certifi>=2017.4.17 in /usr/local/lib/python3.10/dist-packages (from requests>=2.10.0->newspaper3k) (2025.1.31)\r\n",
      "Collecting requests-file>=1.4 (from tldextract>=2.0.1->newspaper3k)\r\n",
      "  Downloading requests_file-2.1.0-py2.py3-none-any.whl.metadata (1.7 kB)\r\n",
      "Requirement already satisfied: filelock>=3.0.8 in /usr/local/lib/python3.10/dist-packages (from tldextract>=2.0.1->newspaper3k) (3.17.0)\r\n",
      "Downloading newspaper3k-0.2.8-py3-none-any.whl (211 kB)\r\n",
      "\u001b[2K   \u001b[90m━━━━━━━━━━━━━━━━━━━━━━━━━━━━━━━━━━━━━━━━\u001b[0m \u001b[32m211.1/211.1 kB\u001b[0m \u001b[31m10.5 MB/s\u001b[0m eta \u001b[36m0:00:00\u001b[0m\r\n",
      "\u001b[?25hDownloading cssselect-1.3.0-py3-none-any.whl (18 kB)\r\n",
      "Downloading feedparser-6.0.11-py3-none-any.whl (81 kB)\r\n",
      "\u001b[2K   \u001b[90m━━━━━━━━━━━━━━━━━━━━━━━━━━━━━━━━━━━━━━━━\u001b[0m \u001b[32m81.3/81.3 kB\u001b[0m \u001b[31m4.0 MB/s\u001b[0m eta \u001b[36m0:00:00\u001b[0m\r\n",
      "\u001b[?25hDownloading tldextract-5.2.0-py3-none-any.whl (106 kB)\r\n",
      "\u001b[2K   \u001b[90m━━━━━━━━━━━━━━━━━━━━━━━━━━━━━━━━━━━━━━━━\u001b[0m \u001b[32m106.3/106.3 kB\u001b[0m \u001b[31m5.5 MB/s\u001b[0m eta \u001b[36m0:00:00\u001b[0m\r\n",
      "\u001b[?25hDownloading requests_file-2.1.0-py2.py3-none-any.whl (4.2 kB)\r\n",
      "Building wheels for collected packages: tinysegmenter, feedfinder2, jieba3k, sgmllib3k\r\n",
      "  Building wheel for tinysegmenter (setup.py) ... \u001b[?25l\u001b[?25hdone\r\n",
      "  Created wheel for tinysegmenter: filename=tinysegmenter-0.3-py3-none-any.whl size=13539 sha256=9ffa646d0f90438cf9329011e34eb5a50a4b8b021025d0071eecd824a394307a\r\n",
      "  Stored in directory: /root/.cache/pip/wheels/c8/d6/6c/384f58df48c00b9a31d638005143b5b3ac62c3d25fb1447f23\r\n",
      "  Building wheel for feedfinder2 (setup.py) ... \u001b[?25l\u001b[?25hdone\r\n",
      "  Created wheel for feedfinder2: filename=feedfinder2-0.0.4-py3-none-any.whl size=3342 sha256=8695ebbcfdac5f212e955e2f4c064750b1f584e85a3107229f5f87614ab99fa7\r\n",
      "  Stored in directory: /root/.cache/pip/wheels/97/02/e7/a1ff1760e12bdbaab0ac824fae5c1bc933e41c4ccd6a8f8edb\r\n",
      "  Building wheel for jieba3k (setup.py) ... \u001b[?25l\u001b[?25hdone\r\n",
      "  Created wheel for jieba3k: filename=jieba3k-0.35.1-py3-none-any.whl size=7398379 sha256=735ca0ee366d9fd73b5180a949eb7364203b498c980185ede58e94d9abd2cef5\r\n",
      "  Stored in directory: /root/.cache/pip/wheels/7a/c4/0c/12a9a314ecac499456c4c3b2fcc2f635a3b45a39dfbd240299\r\n",
      "  Building wheel for sgmllib3k (setup.py) ... \u001b[?25l\u001b[?25hdone\r\n",
      "  Created wheel for sgmllib3k: filename=sgmllib3k-1.0.0-py3-none-any.whl size=6047 sha256=21e82430a847fc03bd31f570f31dea4bd6dbcd30cd202367c7f5b9068a5a05e9\r\n",
      "  Stored in directory: /root/.cache/pip/wheels/f0/69/93/a47e9d621be168e9e33c7ce60524393c0b92ae83cf6c6e89c5\r\n",
      "Successfully built tinysegmenter feedfinder2 jieba3k sgmllib3k\r\n",
      "Installing collected packages: tinysegmenter, sgmllib3k, jieba3k, feedparser, cssselect, requests-file, feedfinder2, tldextract, newspaper3k\r\n",
      "Successfully installed cssselect-1.3.0 feedfinder2-0.0.4 feedparser-6.0.11 jieba3k-0.35.1 newspaper3k-0.2.8 requests-file-2.1.0 sgmllib3k-1.0.0 tinysegmenter-0.3 tldextract-5.2.0\r\n"
     ]
    }
   ],
   "source": [
    "# installing necessary libraries\n",
    "!pip install newspaper3k"
   ]
  },
  {
   "cell_type": "code",
   "execution_count": 3,
   "id": "6763ac14",
   "metadata": {
    "collapsed": true,
    "execution": {
     "iopub.execute_input": "2025-04-09T14:50:00.285518Z",
     "iopub.status.busy": "2025-04-09T14:50:00.285160Z",
     "iopub.status.idle": "2025-04-09T14:50:04.810299Z",
     "shell.execute_reply": "2025-04-09T14:50:04.808270Z"
    },
    "jupyter": {
     "outputs_hidden": true
    },
    "papermill": {
     "duration": 4.535558,
     "end_time": "2025-04-09T14:50:04.812552",
     "exception": false,
     "start_time": "2025-04-09T14:50:00.276994",
     "status": "completed"
    },
    "tags": []
   },
   "outputs": [
    {
     "name": "stdout",
     "output_type": "stream",
     "text": [
      "Collecting lxml_html_clean\r\n",
      "  Downloading lxml_html_clean-0.4.2-py3-none-any.whl.metadata (2.4 kB)\r\n",
      "Requirement already satisfied: lxml in /usr/local/lib/python3.10/dist-packages (from lxml_html_clean) (5.3.0)\r\n",
      "Downloading lxml_html_clean-0.4.2-py3-none-any.whl (14 kB)\r\n",
      "Installing collected packages: lxml_html_clean\r\n",
      "Successfully installed lxml_html_clean-0.4.2\r\n",
      "Note: you may need to restart the kernel to use updated packages.\n"
     ]
    }
   ],
   "source": [
    "pip install lxml_html_clean"
   ]
  },
  {
   "cell_type": "code",
   "execution_count": 4,
   "id": "1995607b",
   "metadata": {
    "execution": {
     "iopub.execute_input": "2025-04-09T14:50:04.829007Z",
     "iopub.status.busy": "2025-04-09T14:50:04.828554Z",
     "iopub.status.idle": "2025-04-09T14:50:06.715840Z",
     "shell.execute_reply": "2025-04-09T14:50:06.714420Z"
    },
    "papermill": {
     "duration": 1.897804,
     "end_time": "2025-04-09T14:50:06.717873",
     "exception": false,
     "start_time": "2025-04-09T14:50:04.820069",
     "status": "completed"
    },
    "tags": []
   },
   "outputs": [
    {
     "name": "stdout",
     "output_type": "stream",
     "text": [
      "206\n"
     ]
    }
   ],
   "source": [
    "# this is the code i used  scrape 204 sentences\n",
    "from newspaper import Article\n",
    "paths = [\n",
    "    \"https://www.bbc.com/news/live/c1dr7vy39eet\",\n",
    "    \"https://www.theguardian.com/environment/2024/dec/17/down-to-earth-long-read-special?utm_source=chatgpt.com\",\n",
    "    \"https://www.theguardian.com/lifeandstyle/2025/apr/03/the-leaves-fall-off-but-i-think-thats-normal-the-houseplants-you-just-cant-kill?utm_source=chatgpt.com\",\n",
    "    \"https://www.theguardian.com/science/2025/apr/03/eddie-ogorman-obituary?utm_source=chatgpt.com\"\n",
    "]\n",
    "\n",
    "sentences = []\n",
    "\n",
    "for path in paths:\n",
    "    try:\n",
    "        article = Article(path)\n",
    "        article.download()\n",
    "        article.parse()\n",
    "        \n",
    "        sentences.extend(article.text.split(\".\"))\n",
    "    \n",
    "    except Exception as e:\n",
    "        print(f\"Error processing {path}: {e}\")\n",
    "\n",
    "print(len(sentences))"
   ]
  },
  {
   "cell_type": "code",
   "execution_count": 5,
   "id": "0445dd1e",
   "metadata": {
    "collapsed": true,
    "execution": {
     "iopub.execute_input": "2025-04-09T14:50:06.734123Z",
     "iopub.status.busy": "2025-04-09T14:50:06.733506Z",
     "iopub.status.idle": "2025-04-09T14:50:06.780167Z",
     "shell.execute_reply": "2025-04-09T14:50:06.772757Z"
    },
    "jupyter": {
     "outputs_hidden": true
    },
    "papermill": {
     "duration": 0.056875,
     "end_time": "2025-04-09T14:50:06.782368",
     "exception": false,
     "start_time": "2025-04-09T14:50:06.725493",
     "status": "completed"
    },
    "tags": []
   },
   "outputs": [
    {
     "name": "stdout",
     "output_type": "stream",
     "text": [
      "Trump touts stock market 'boom' while global markets tumble\n",
      "\n",
      "Jacqueline Howard\n",
      "\n",
      "Live reporter\n",
      "\n",
      "Image source, Reuters Image caption, Trump arriving in Miami earlier today\n",
      "\n",
      "As investors watched the US stock market take its biggest one-day dive since the pandemic in 2020, the message from the White House to Wall Street was: \"Trust in President Trump\"\n",
      "Trump himself said markets would \"boom\" under his new tariff scheme as the Dow Jones, Nasdaq and S&P plunged over the course of the day\n",
      "Twenty-four hours after Trump imposed minimum 10% import tariffs worldwide starting on 5 April, the US's key trading partners are mapping out their response\n",
      "Canadian Prime Minister Mark Carney retaliated with 25% levies on all vehicles imported across the border, lamenting that the close relationship with the US is \"now over\"\n",
      "In contrast, Mexican President Claudia Sheinbaum said her country would not retaliate in kind\n",
      "Meanwhile, the UK has drawn up a 400-page sample list of US goods that could face future tariffs in retaliation to Trump's tariffs, and though EU leaders are yet to present the bloc's official response, many have slammed the tariffs as \"brutal\"\n",
      "Eyes will be on the Asian markets in the coming hours as eastern trading floors reopen after initial losses immediately following Trump's announcement\n",
      "We are now ending our live coverage for the night, but will be back with you come morning\n",
      "In the meantime, there is plenty about the impact of Trump's tariffs on offer across BBC News:\n",
      "This year the Guardian Long Read series celebrates its 10th anniversary\n",
      "Since we launched in 2014, we’ve run more than 1,000 pieces, on everything from Algerian sheep fighting to the trials and tribulations of Durex’s chief condom guy\n",
      "Over the years, we’ve also run plenty of great environment stories, and for this special edition of Down to Earth we want to highlight a few of our favourites from the archive\n",
      "Below we’ve picked 10 of our favourite climate pieces to dig into over the Christmas break – but first, this week’s most important reads\n",
      "Essential reads\n",
      "\n",
      "In focus\n",
      "\n",
      "View image in fullscreen A picture of a Bristlecone tree Photograph: Piriya Photography/Getty Images\n",
      "\n",
      "Mother trees and socialist forests: is the “wood-wide web” a fantasy?\n",
      "\n",
      "In his essay, Daniel Immerwahr describes a new tree discourse, which sees them not as inert objects but intelligent subjects\n",
      "Trees have thoughts and desires, the new theory goes, and they converse via fungi that connect their roots like fibre optic internet cables\n",
      "Immerwahr identifies the source of this revelation as forest ecologist Suzanne Simard, whose idea of trees as intelligent and cooperative, even maternal, was so enthusiastically adopted in scientific books and popular culture\n",
      "He goes on to show how this view, however romantic, is limited, and how Simard’s work provoked a quick backlash\n",
      "But the bigger picture is why we so badly want this world of sentient trees to be true\n",
      "Read the full long read here\n",
      "\n",
      "The great abandonment: what happens to the natural world when people disappear?\n",
      "\n",
      "Over the past half-century, the global portion of people living in rural areas has decreased by almost a third\n",
      "As people gravitate to the cities for work, or to escape the ravages of the climate crisis, vast areas of land are abandoned to be reclaimed by nature\n",
      "We have become accustomed to reading about rewilding projects, but these are often labour intensive\n",
      "In her Long read from last month, Tess McClure asks: what happens to the natural world when people disappear? In Bulgaria, she visits a village buried in vines, one of the places where monocultures have reduced nature’s capacity to fill the void\n",
      "Bulgaria’s emptying rural landscapes offer us the chance to see what the land looks like after humans leave\n",
      "Read the full long read here\n",
      "\n",
      "How the world got hooked on palm oil\n",
      "\n",
      "Palm oil is a wondrous product: it can enhance flavours, stabilise cosmetics, soften ice-cream, fry foods without spoiling, make shampoo more bubbly\n",
      "But in his 2019 story, Paul Tullis documents how the so-called miracle ingredient insinuated itself into every corner of our lives\n",
      "He shows how food conglomerate Unilever switched almost overnight to using palm oil in its products as an alternative to unhealthy trans fats, and the rest of the world followed\n",
      "By the time its devastating environmental impact was discovered, consumers had decided they couldn’t do without it\n",
      "There is no easy solution, but by understanding how the industry works, we can identify what the cost is\n",
      "Read the full long read here\n",
      "\n",
      "Dirty waters: how the UK’s Environment Agency lost its way\n",
      "\n",
      "When the extent of the pollution of Britain’s rivers and seas became known, the public demanded answers\n",
      "How was this allowed to happen? Had the water industry watchdog been asleep, mismanaged, corrupt? This investigation last June, by Hettie O’Brien, examines the extent to which the agency failed in its mission, and how – and why – it was allowed to fall into disrepair\n",
      "Through interviews with insiders, O’Brien shows how this government agency was established to police environmental crimes while, at the same time, the government was “killing environmental law by stealth”\n",
      "Read the full long read here\n",
      "\n",
      "How to move a country: Fiji’s radical plan to escape rising sea levels\n",
      "\n",
      "To look at the true impact of rising sea levels, Kate Lyons went to Fiji, in the south Pacific, which has more than 300 islands and a population of just under one million\n",
      "Like most of the Pacific, its island shores are battered by storms and coastal villages are threatened by flooding\n",
      "But Fiji has a plan\n",
      "In her story, Lyons followed the first wholesale move of a coastal village to higher ground inland and heard about the many challenges involved\n",
      "She also talked to residents of other villages in various stages of relocation, including one where male village leaders were left in charge of plans and the new houses were designed without kitchens\n",
      "Read the full long read here\n",
      "\n",
      "View image in fullscreen Laisana Bilosiliva with daughter, Lusiana at the Nabavatu Temporary camp site Photograph: Walter Gerard\n",
      "\n",
      "The coalmine that ate an Indian village\n",
      "\n",
      "Another story of communities displaced, this time by industry in cahoots with government, is Ankur Paliwal’s piece from 2022\n",
      "In the central Indian state of Chhattisgarh, villages and ancient forest have been destroyed to create a coalmine for Adani, a massive conglomerate owned by one of richest men in the world\n",
      "In a story of “crony capitalism, oligarchy … regulatory capture”, Paliwal investigated secretive and intimidating government ministries as well as powerful private interests to uncover the tactics used by Adani to drive villagers off the land it wants to mine\n",
      "After we published this story, we were contacted by Adani’s press office, which claimed, absurdly, that: “It is fair to say that the article by the Guardian is an attempt to challenge India’s energy security\n",
      "” It is no such thing – it is a truly powerful piece of reporting by a dedicated journalist who spent more than a year trying to expose the truth\n",
      "Read the full long read here\n",
      "\n",
      "skip past newsletter promotion Sign up to Down to Earth Free weekly newsletter The planet's most important stories\n",
      "Get all the week's environment news - the good, the bad and the essential Enter your email address Sign up Privacy Notice: Newsletters may contain info about charities, online ads, and content funded by outside parties\n",
      "For more information see our Newsletters may contain info about charities, online ads, and content funded by outside parties\n",
      "For more information see our Privacy Policy\n",
      "We use Google reCaptcha to protect our website and the Google Privacy Policy and Terms of Service apply\n",
      "after newsletter promotion\n",
      "\n",
      "The plastic-eating bacteria that could change the world\n",
      "\n",
      "In this piece, Stephen Buranyi investigates what seems to be a major breakthrough in the battle against the plastic waste engulfing our planet\n",
      "Buranyi has previously written about the public outcry against plastic pollution, and here he follows the discovery of a bacteria that can break down plastics and the scientific quest to turn that discovery into an industry-wide solution\n",
      "The miraculous properties of microbes have been documented in the field of health, but this new research posists an enticing question: will highly evolved microbes really deliver us from the plastic crisis? Read the full long read here\n",
      "\n",
      "‘A different dimension of loss’: the entomologists confronting the great insect die-off\n",
      "\n",
      "Biodiversity has become one of the closely watched areas of environmental science as we deal with global heating and the manmade climate crisis\n",
      "And none more so than the dramatic drop in our insect populations\n",
      "In this article, Jacob Mikanowski speaks to scientists monitoring an ecological catastrophe that has come to be known as the sixth extinction\n",
      "We should be spending less time worrying about the “cute and cuddlies” and focus on the invertebrates, says Terry Erwin, the legendary tropical entomologist\n",
      "Read the full long read here\n",
      "\n",
      "The war on Japanese knotweed\n",
      "\n",
      "Samanth Subramanian is a master of finding great characters to anchor a story\n",
      "Here he accompanies Gethin Bowes on his excursions to find and destroy the homeowner’s most hated weed\n",
      "In Bowes, he finds a man who has spent years “playing whack-a-mole” against infestations of this mild-seeming but indestructible plant in building sites and private gardens and on agricultural land\n",
      "Against knotweed’s “dastardly Darwinian tactics”, Bowes sets out armed with a tank of glyphosate, a controversial chemical weed killer that may or may not cause cancer, but definitely makes an impact on knotweed\n",
      "But Subramanian also finds Koichi Watanabe, a mild-mannered photographer who delivers the story’s most profound thought: it’s not the knotweed’s fault\n",
      "Humans are responsible – for setting knotweed loose across the planet, and then for losing their minds about its presence\n",
      "Read the full long read here\n",
      "\n",
      "Ten ways to confront the climate crisis without losing hope\n",
      "\n",
      "Rebecca Solnit has become the voice of hope for a generation: a writer who shows that anger is of no use unless accompanied by action\n",
      "This piece was written as part of our 2021 series, Reconstruction after Covid, looking at ways in which we could take the lessons of the pandemic and apply them in practical ways to build a better world\n",
      "Solnit shows how despair can sap our ability to act, and how the narratives we create, whether negative or positive, matter\n",
      "Solnit sets out 10 action points that are also points of mental discipline and attitude of mind: “Too many people like to spread their despair, saying: ‘It’s too late’ and ‘There’s nothing we can do\n",
      "’ These are excuses for doing nothing\n",
      "” Read the full long read here\n",
      "\n",
      "To read the complete version of this newsletter, subscribe to receive Down To Earth in your inbox every Thursday\n",
      "\n",
      "There is a good reason that we treat certain houseplants as the green wallpaper of our homes: the odd splash of water and they seem to rub along fine\n",
      "These are the species that have proved, over many decades, that they are best adapted to surviving in a vast range of situations\n",
      "Unfortunately, familiarity breeds contempt, so many of us dismiss snake plants, spider plants, Swiss cheese plants and dragon trees as uninspiring and basic, even though they are the species that are likely to thrive, whatever the conditions\n",
      "The key to making “bog standard” houseplants look good is to display them in an atypical way: an oversized trough of snake plants rather than a few leaves in a lonely pot; the silhouette of a mass of plain green spider plants in a huge hanging basket instead of a spindly cream-striped specimen on a shelf; or a forest of dragon trees in a huge barrel planter\n",
      "If you love flowers, moth orchids (Phalaenopsis) are a great choice as they are incredibly tough, and unfazed by the centrally heated air of our homes\n",
      "Again, think about innovative ways of presenting them: they can look amazing massed in a single container\n",
      "When it comes to shopping for houseplants, bear in mind that many plants sold in DIY stores, houseplant shops and supermarkets are not marketed with longevity in mind\n",
      "Have you ever met anyone with a calathea older than a few months, for instance? So choose your purchase carefully\n",
      "If your home lacks natural light (small windows and a north-facing aspect are the usual predictors of this), your options are far more limited: plain green-leaved houseplants such as the cast-iron plant (Aspidistra elatior), grape ivy (Cissus rhombifolia) and kangaroo ivy (Cissus antarctica) will do well in darker corners\n",
      "But remember that if it is too dark to read a book without a light on, it’s too dark for a houseplant to grow\n",
      "View image in fullscreen Draceanas on display\n",
      "Photograph: janzwolinski/Getty Images/iStockphoto\n",
      "\n",
      "If you have a sunnier home, cacti and succulents are a great choice: the forest cacti in particular are well suited to indoor growing and can live for decades\n",
      "They are found in the tree canopies of South America, so do not need as much sunlight as the desert cacti\n",
      "The Christmas, Easter and Thanksgiving cacti (Schlumberger species) are probably best known but also look out for the mistletoe cacti (Rhipsalis species) and orchid cacti (Epiphyllum species)\n",
      "If you’re on a limited budget, these are easy to grow from cuttings, so beg your friends for cuttings to kickstart your collection\n",
      "Jane Perrone\n",
      "\n",
      "If only they could talk …\n",
      "\n",
      "Falls, house moves, young children, long journeys in biscuit tins: these readers’ plants have endured it all, and they’re still going strong\n",
      "\n",
      "My elderly Swedish orchids\n",
      "\n",
      "When I left Sweden in 2011, I couldn’t take my plants with me, especially my rock orchid, which would have died in the moving truck\n",
      "It was a Valentine’s present from my husband, so I was sad to part with it, but I gave it to a friend\n",
      "I kept two small offshoots, wrapped them in damp kitchen towel and newspaper, put them in a biscuit tin, and carried them in my hand luggage on the plane to London\n",
      "Fourteen years later, I still have the orchids\n",
      "They are happy to be watered whenever I remember, with water left out overnight\n",
      "(It’s important never to use water straight from the tap\n",
      ") People say orchids are very difficult, but my orchids are the only plants I can keep alive\n",
      "Vanessa, library assistant, Dorset\n",
      "\n",
      "Ralph, father of 20\n",
      "\n",
      "I purchased “Ralph”, my aspidistra, from a house clearance shop in Battersea in 1971\n",
      "He has moved house with me many times during my long career\n",
      "Over the years at least 20 root cuttings have been given to family, colleagues and friends, and they have thrived equally well\n",
      "Ralph is best housed away from direct sunlight with space for new leaves to grow\n",
      "He likes a drink once a week but does not start to turn yellow with anger until neglected for about three weeks\n",
      "Keith Spanswick, 76, designer of medical equipment, Nottingham\n",
      "\n",
      "Green-eyed monstera\n",
      "\n",
      "We bought a fairly small monstera (Swiss cheese plant) about eight years ago and put it in the corner of our conservatory\n",
      "It thrived, sending its tendrils across the granite walls, and was repotted after a couple of years\n",
      "It is now completely enormous – around 8ft (2\n",
      "4m) tall\n",
      "It is totally living its best life\n",
      "Robert Dunn, 62, self-catering manager, Strontian, Scotland\n",
      "\n",
      "The peace lily that missed me\n",
      "\n",
      "My peace lily started life as a very small office plant bought one lunchtime in Leeds market about eight years ago\n",
      "It seemed happy enough while I was at work but every time I was away for a week or so it appeared to have died\n",
      "I got many surprised comments from colleagues as I did some emergency intensive watering in the kitchen\n",
      "It kept bouncing back and hung in there despite the bouts of neglect\n",
      "When I retired four years ago, I brought it home and started to give it a bit more attention\n",
      "Even so, I just water it when it looks droopy and feed maybe once or twice a year\n",
      "It rewards me with beautiful glossy leaves and regular flowers\n",
      "Gillian Richardson, West Yorkshire\n",
      "\n",
      "skip past newsletter promotion Sign up to Well Actually Free weekly newsletter Practical advice, expert insights and answers to your questions about how to live a good life Enter your email address Sign up Privacy Notice: Newsletters may contain info about charities, online ads, and content funded by outside parties\n",
      "For more information see our Newsletters may contain info about charities, online ads, and content funded by outside parties\n",
      "For more information see our Privacy Policy\n",
      "We use Google reCaptcha to protect our website and the Google Privacy Policy and Terms of Service apply\n",
      "after newsletter promotion\n",
      "\n",
      "How to tame your dracaena\n",
      "\n",
      "I have had what I think is a dracaena (dragon plant) since 1999\n",
      "I was given it as a leaving present from my last employment\n",
      "It’s about 8ft tall and requires almost no upkeep – it tolerates being forgotten for weeks at a time and always looks really healthy\n",
      "Lower leaves dry and fall off, but I think that’s normal\n",
      "I love it\n",
      "Kate Edmonds, former career and executive coach, Alfriston, East Sussex\n",
      "\n",
      "The rubber plant that bounced back\n",
      "\n",
      "I picked up my rubber plant from Columbia Road flower market in London in 2018, as a tiny sapling\n",
      "It has been through seven house moves, a pandemic and the arrival of three children under three who terrorise everything in reaching distance\n",
      "It is still going strong, sprouting new leaves, and is now enjoying its twilight years\n",
      "The secret? No idea\n",
      "None of my other plants has fared as well\n",
      "Kevin, 41, charity sector recruiter, London\n",
      "\n",
      "My 8ft umbrella\n",
      "\n",
      "I have owned my umbrella plant since 2011, when I bought it from a DIY store in a 15cm pot\n",
      "It is now about 8ft tall, and has been cut back several times\n",
      "Like many houseplants, it thrives on neglect, but this one is remarkable\n",
      "It has helped that it has been set up like an office plant rather than a typical houseplant: large planter, large volume of compost, watering only once every few weeks\n",
      "It responds well to pruning and several cuttings have been taken and grown on\n",
      "Kenneth Freeman, interior landscaping consultant, Swanley, Kent\n",
      "\n",
      "The begonias that won’t begone\n",
      "\n",
      "I currently have three beefsteak begonias\n",
      "The mother plant is about 30 years old and came from a single rooted leaf given out in a paper cup at a fundraiser for a political candidate\n",
      "Over time I have rooted cuttings or broken off bits to give to family and neighbours\n",
      "The mother plant was once knocked off the porch rail and fell 7ft to the ground; I gathered up the broken-off bits and rooted them\n",
      "I keep it in a sunny southern window in the winter and outside on the northern-exposure front porch the rest of the year\n",
      "It is an extremely forgiving houseplant and propagates easily from cuttings, blooming from February till the end of April, with light pink flowers\n",
      "Juliana Inman, 73, architect, Salem, Oregon, US\n",
      "\n",
      "‘Watered’ by the cat\n",
      "\n",
      "My dwarf umbrella plant was a present on my 25th birthday\n",
      "It quickly grew into a large plant that spent its early life in a pot on the floor next to my parents’ back door\n",
      "Mum would occasionally throw some water on it, but it thrived on benign neglect – covered in dust, leaned on, leaves crushed, occasionally “watered” by the cat and then cut back to within an inch of its life as it dared to push new branches or leaves beyond its allotted corner\n",
      "It eventually moved with me to my own home, where it has since lived a largely event-free life\n",
      "Forty years later, it is still thriving on benign neglect\n",
      "Sally Nunn, 64, retired, Grimsby\n",
      "\n",
      "A lily that toils not\n",
      "\n",
      "I was given my clivia (bush lily) by my late husband’s grandmother when we married in 1987\n",
      "It has luscious green leaves and should have a large orange flower\n",
      "The plant has thrived but is very temperamental when it comes to flowering\n",
      "I have divided or repotted it every few years and fed it in spring and summer, but I have had only a handful of flowers in more than 30 years\n",
      "Liz, Bury St Edmunds, Suffolk\n",
      "\n",
      "Easy money\n",
      "\n",
      "I inherited my money plant from my parents\n",
      "I believe it was a present from when they married in the 80s\n",
      "It lived in their conservatory and survived for 18 months, completely solo, after they passed away\n",
      "When their property was sold I took some of the furniture and the plant\n",
      "I was warned it would probably die, as it would be in storage for a month with no light\n",
      "It looked extremely sad when we got it down to where I live in Cornwall\n",
      "However, a warm spot in our children’s play space and some watering bulbs slowly revived it\n",
      "I added fertiliser when I saw new growth and it is looking much happier and healthier now\n",
      "Clearly, it is a survivor\n",
      "Mark Ferguson, 33, researcher, Cornwall\n",
      "\n",
      "People featured in the article responded to a Community callout\n",
      "You can contribute to open callouts here\n",
      "\n",
      "In December 1986, Eddie O’Gorman’s youngest child, Paul, was diagnosed with leukaemia aged 14\n",
      "It advanced rapidly and he died two months later\n",
      "At the same time, O’Gorman’s daughter Jean, who was in her late 20s, was suffering with aggressive breast cancer\n",
      "These events changed the direction of O’Gorman’s life\n",
      "In 1987, the self-made businessman, who has died aged 90, sold his business interests and spent the rest of his life helping children with cancer\n",
      "He founded Children with Cancer UK, which became Britain’s leading sponsor of research into childhood cancers, and he remained in charge until three years before he died\n",
      "During O’Gorman’s lifetime the charity raised more than £300m and supported around 300 research projects, which have had a huge impact\n",
      "Today, around 85% of children survive their cancer for five years or more after diagnosis, compared with around 64% in the 1980s\n",
      "In the aftermath of Paul’s death, O’Gorman wanted to raise £100,000 in his memory for a charity that at the time was called the Leukaemia Research Fund (now Blood Cancer UK)\n",
      "He and his wife, Marion, organised a ball at the Grosvenor House hotel in London and invited all his business contacts\n",
      "It took place in October 1987 and 1,500 people came, including Jean, who by this time was extremely frail and in a wheelchair\n",
      "O’Gorman achieved his goal, but it was bittersweet as Jean died a few days later, aged 29\n",
      "Newspaper coverage of the ball and the O’Gormans’ story was spotted by the then Princess of Wales’ team and Diana asked to meet them\n",
      "At that point, O’Gorman and his wife were only thinking of fundraising for other people’s charities, but Diana encouraged them to go further and create their own charity\n",
      "In January 1988 the O’Gormans launched the Children with Leukaemia charity and Diana planted a tree in memory of Paul\n",
      "As the charity grew and supported a wide range of cancers, its name was changed in 2011 to Children with Cancer UK\n",
      "In the beginning O’Gorman rented an attic on Battersea Park Road in south London as the charity’s office\n",
      "Helped part-time by his eldest son, Cliff, he set about raising money\n",
      "He had no charity fundraising background, but his quiet, understated manner and compelling story moved people\n",
      "He contacted celebrities including Terry Wogan, Paul McCartney, Steve Redgrave and Ronnie Corbett, and found they were happy to endorse his fundraising\n",
      "One strategy was postal appeals\n",
      "The charity would send out thousands of letters, with a celebrity foreword, asking for money\n",
      "Another initiative, inspired by O’Gorman’s childhood memory of paying for a signed photo of the Hollywood star Richard Widmark, was to sell signed photographs of celebrities such as Frank Bruno and Michael Caine for £50 each to pubs, cafes and hair salons all over Britain\n",
      "He would say, “There’s no taste in nothing”, believing that people were more likely to donate if they got something in return\n",
      "The charity grew every year and by 1998 was raising £4m annually and had a team of staff housed in offices opposite Great Ormond Street hospital in London, where in 1995 it had opened its first childhood leukaemia research centre\n",
      "O’Gorman said his strategy was to tackle the Big C (cancer) by funding research into the three little c’s (cause, cure and care)\n",
      "View image in fullscreen O'Gorman with his Pride of Britain lifetime achievement award in 2018\n",
      "Photograph: Tim Anderson/MDM\n",
      "\n",
      "A particular concern was that three-quarters of children who survive cancer will have long-term issues caused by chemotherapy and other treatments, including infertility, growth problems and heart issues\n",
      "The big battle was to make cancer treatment less toxic and more precise\n",
      "O’Gorman was particularly proud of funding the UKALL trial in 2003, which measured “minimal residual disease” in children with leukaemia\n",
      "If you can pinpoint how much leukaemia is present in a child’s blood, you can tailor treatment, giving the lowest dose of chemotherapy necessary\n",
      "From 2008, Children with Cancer UK also became a major funder, along with Cancer Research UK, of the Stratified Medicine Paediatrics programme at the Institute of Cancer Research, which is advancing precision medicine for children whose cancers have returned\n",
      "O’Gorman’s long-term support of paediatric cancer research, which included funding oncology fellowships, was particularly valued by the scientific community due to the low level of state funding in the UK\n",
      "While the comparable Zero Childhood Cancer scientific programme in Australia has been allocated A$150m (£73m) of taxpayers’ money over five years from 2024-25, for example, in the UK the Stratified Medicine Paediatrics’ programme relies on charities\n",
      "Born in Kentish Town, north-west London, to Ted O’Gorman, a librarian, and his wife, Violet, Eddie was the youngest of three, with an older brother, Terry, and sister, Anne\n",
      "During the second world war he was evacuated to Wales, and upon return attended the William Ellis school in Highgate\n",
      "He was very bright and got 11 O-levels, but the need to earn a living meant he left school at 16 and got an accounting job\n",
      "When he was 19, he met Marion Baillie, who worked for a printing company\n",
      "They married a year later, in 1955, and had five children: Cliff, Sandra, Jean, Mark and Paul\n",
      "Their first home was in a flat in Johnson Street, Kentish Town, made famous by Charles Dickens as the home of the Micawbers in David Copperfield\n",
      "The conditions were still fairly Dickensian, and when Cliff was bitten by a rat as a toddler, the council rehoused the family in Mornington Crescent\n",
      "O’Gorman rose to become the director of several textile import companies, including Texmore Trading\n",
      "As he became more prosperous, the family moved to Wembley and then to Hyver Hill in north London\n",
      "He had a comfortable life, including holidays in Florida, playing golf and supporting Arsenal football team\n",
      "However, after the deaths of Paul and Jean, his focus was on running the cancer charity\n",
      "O’Gorman was aware of the bigger picture in children’s cancer funding\n",
      "He kept in touch with other CEOs, and if he could see another children’s cancer charity struggling, he would direct Children with Cancer UK to support them\n",
      "During the Covid-19 pandemic, for example, the Teenage Cancer Trust received more than £1m from Children with Cancer UK\n",
      "In the same way, he supported the charity Young Lives vs Cancer who fund “home from homes”, which are free places for families to stay while their child is having cancer treatment\n",
      "Money from Children with Cancer UK also underpins the Beads of Courage programme, which gives a child a coloured bead every time they have a procedure\n",
      "In 2008, Marion died from motor neurone disease\n",
      "When O’Gorman was made OBE two years later he was troubled that she was not there to share the experience, and he buried his medal in her grave\n",
      "In 2018 he received the Pride of Britain lifetime achievement award\n",
      "By 2021 his health was beginning to deteriorate and he had a stroke, so stepped down from the board of trustees\n",
      "He is survived by Cliff, Sandra and Mark, nine grandchildren and 15 great-grandchildren\n",
      "\n"
     ]
    }
   ],
   "source": [
    "# i tried taking a look at the sentences that were scraped \n",
    "for i, sentence in enumerate(sentences):\n",
    "    print(f\"{sentence.strip()}\")\n"
   ]
  },
  {
   "cell_type": "code",
   "execution_count": 6,
   "id": "d41f79d7",
   "metadata": {
    "collapsed": true,
    "execution": {
     "iopub.execute_input": "2025-04-09T14:50:06.802319Z",
     "iopub.status.busy": "2025-04-09T14:50:06.801918Z",
     "iopub.status.idle": "2025-04-09T14:50:06.848969Z",
     "shell.execute_reply": "2025-04-09T14:50:06.847566Z"
    },
    "jupyter": {
     "outputs_hidden": true
    },
    "papermill": {
     "duration": 0.060017,
     "end_time": "2025-04-09T14:50:06.850942",
     "exception": false,
     "start_time": "2025-04-09T14:50:06.790925",
     "status": "completed"
    },
    "tags": []
   },
   "outputs": [
    {
     "data": {
      "text/html": [
       "<div>\n",
       "<style scoped>\n",
       "    .dataframe tbody tr th:only-of-type {\n",
       "        vertical-align: middle;\n",
       "    }\n",
       "\n",
       "    .dataframe tbody tr th {\n",
       "        vertical-align: top;\n",
       "    }\n",
       "\n",
       "    .dataframe thead th {\n",
       "        text-align: right;\n",
       "    }\n",
       "</style>\n",
       "<table border=\"1\" class=\"dataframe\">\n",
       "  <thead>\n",
       "    <tr style=\"text-align: right;\">\n",
       "      <th></th>\n",
       "      <th>Sentences</th>\n",
       "      <th>Target</th>\n",
       "      <th>AI Labels</th>\n",
       "    </tr>\n",
       "  </thead>\n",
       "  <tbody>\n",
       "    <tr>\n",
       "      <th>0</th>\n",
       "      <td>As investors watched the US stock market take ...</td>\n",
       "      <td>0</td>\n",
       "      <td>0</td>\n",
       "    </tr>\n",
       "    <tr>\n",
       "      <th>1</th>\n",
       "      <td>\\nTrump himself said markets would \"boom\" unde...</td>\n",
       "      <td>2</td>\n",
       "      <td>0</td>\n",
       "    </tr>\n",
       "    <tr>\n",
       "      <th>2</th>\n",
       "      <td>\\n\\nTwenty-four hours after Trump imposed mini...</td>\n",
       "      <td>1</td>\n",
       "      <td>1</td>\n",
       "    </tr>\n",
       "    <tr>\n",
       "      <th>3</th>\n",
       "      <td>\\n\\nCanadian Prime Minister Mark Carney retali...</td>\n",
       "      <td>0</td>\n",
       "      <td>0</td>\n",
       "    </tr>\n",
       "    <tr>\n",
       "      <th>4</th>\n",
       "      <td>In contrast, Mexican President Claudia Sheinb...</td>\n",
       "      <td>1</td>\n",
       "      <td>0</td>\n",
       "    </tr>\n",
       "  </tbody>\n",
       "</table>\n",
       "</div>"
      ],
      "text/plain": [
       "                                           Sentences  Target  AI Labels\n",
       "0  As investors watched the US stock market take ...       0          0\n",
       "1  \\nTrump himself said markets would \"boom\" unde...       2          0\n",
       "2  \\n\\nTwenty-four hours after Trump imposed mini...       1          1\n",
       "3  \\n\\nCanadian Prime Minister Mark Carney retali...       0          0\n",
       "4   In contrast, Mexican President Claudia Sheinb...       1          0"
      ]
     },
     "execution_count": 6,
     "metadata": {},
     "output_type": "execute_result"
    }
   ],
   "source": [
    "# this is to read the scraped data into a csv file called 'scraped_data'\n",
    "import pandas as pd \n",
    "file_path = r\"/kaggle/input/scraped-data3/SentimentAnalysis (1).csv\"\n",
    "scraped_data = pd.read_csv(file_path)\n",
    "scraped_data.head()"
   ]
  },
  {
   "cell_type": "code",
   "execution_count": 7,
   "id": "5e4c41be",
   "metadata": {
    "collapsed": true,
    "execution": {
     "iopub.execute_input": "2025-04-09T14:50:06.870215Z",
     "iopub.status.busy": "2025-04-09T14:50:06.869796Z",
     "iopub.status.idle": "2025-04-09T14:50:06.880962Z",
     "shell.execute_reply": "2025-04-09T14:50:06.879850Z"
    },
    "jupyter": {
     "outputs_hidden": true
    },
    "papermill": {
     "duration": 0.022876,
     "end_time": "2025-04-09T14:50:06.882845",
     "exception": false,
     "start_time": "2025-04-09T14:50:06.859969",
     "status": "completed"
    },
    "tags": []
   },
   "outputs": [],
   "source": [
    "# decided to use my manual labelling to train the model,so i had to drop the AI label \n",
    "# to avoid interference\n",
    "scraped_data.drop('AI Labels', axis = 1, inplace = True)"
   ]
  },
  {
   "cell_type": "code",
   "execution_count": 8,
   "id": "14bd4b1e",
   "metadata": {
    "collapsed": true,
    "execution": {
     "iopub.execute_input": "2025-04-09T14:50:06.901431Z",
     "iopub.status.busy": "2025-04-09T14:50:06.901031Z",
     "iopub.status.idle": "2025-04-09T14:50:06.910279Z",
     "shell.execute_reply": "2025-04-09T14:50:06.909316Z"
    },
    "jupyter": {
     "outputs_hidden": true
    },
    "papermill": {
     "duration": 0.020064,
     "end_time": "2025-04-09T14:50:06.911723",
     "exception": false,
     "start_time": "2025-04-09T14:50:06.891659",
     "status": "completed"
    },
    "tags": []
   },
   "outputs": [
    {
     "data": {
      "text/html": [
       "<div>\n",
       "<style scoped>\n",
       "    .dataframe tbody tr th:only-of-type {\n",
       "        vertical-align: middle;\n",
       "    }\n",
       "\n",
       "    .dataframe tbody tr th {\n",
       "        vertical-align: top;\n",
       "    }\n",
       "\n",
       "    .dataframe thead th {\n",
       "        text-align: right;\n",
       "    }\n",
       "</style>\n",
       "<table border=\"1\" class=\"dataframe\">\n",
       "  <thead>\n",
       "    <tr style=\"text-align: right;\">\n",
       "      <th></th>\n",
       "      <th>Sentences</th>\n",
       "      <th>Target</th>\n",
       "    </tr>\n",
       "  </thead>\n",
       "  <tbody>\n",
       "    <tr>\n",
       "      <th>0</th>\n",
       "      <td>As investors watched the US stock market take ...</td>\n",
       "      <td>0</td>\n",
       "    </tr>\n",
       "    <tr>\n",
       "      <th>1</th>\n",
       "      <td>\\nTrump himself said markets would \"boom\" unde...</td>\n",
       "      <td>2</td>\n",
       "    </tr>\n",
       "    <tr>\n",
       "      <th>2</th>\n",
       "      <td>\\n\\nTwenty-four hours after Trump imposed mini...</td>\n",
       "      <td>1</td>\n",
       "    </tr>\n",
       "    <tr>\n",
       "      <th>3</th>\n",
       "      <td>\\n\\nCanadian Prime Minister Mark Carney retali...</td>\n",
       "      <td>0</td>\n",
       "    </tr>\n",
       "    <tr>\n",
       "      <th>4</th>\n",
       "      <td>In contrast, Mexican President Claudia Sheinb...</td>\n",
       "      <td>1</td>\n",
       "    </tr>\n",
       "  </tbody>\n",
       "</table>\n",
       "</div>"
      ],
      "text/plain": [
       "                                           Sentences  Target\n",
       "0  As investors watched the US stock market take ...       0\n",
       "1  \\nTrump himself said markets would \"boom\" unde...       2\n",
       "2  \\n\\nTwenty-four hours after Trump imposed mini...       1\n",
       "3  \\n\\nCanadian Prime Minister Mark Carney retali...       0\n",
       "4   In contrast, Mexican President Claudia Sheinb...       1"
      ]
     },
     "execution_count": 8,
     "metadata": {},
     "output_type": "execute_result"
    }
   ],
   "source": [
    "# observing the new scraped_data \n",
    "scraped_data.head()"
   ]
  },
  {
   "cell_type": "code",
   "execution_count": 9,
   "id": "f60e6e77",
   "metadata": {
    "execution": {
     "iopub.execute_input": "2025-04-09T14:50:06.931191Z",
     "iopub.status.busy": "2025-04-09T14:50:06.930694Z",
     "iopub.status.idle": "2025-04-09T14:50:06.941099Z",
     "shell.execute_reply": "2025-04-09T14:50:06.940015Z"
    },
    "papermill": {
     "duration": 0.022298,
     "end_time": "2025-04-09T14:50:06.943002",
     "exception": false,
     "start_time": "2025-04-09T14:50:06.920704",
     "status": "completed"
    },
    "tags": []
   },
   "outputs": [],
   "source": [
    "# This is the preprocessing stage. Firstly, i want to get rid of all special characters \n",
    "# and excess space\n",
    "import re\n",
    "\n",
    "scraped_data['Sentences'] = scraped_data['Sentences'].apply(lambda x: re.sub(r'[^a-zA-Z0-9\\s]', '', x))\n",
    "scraped_data['Sentences'] = scraped_data['Sentences'].apply(lambda x: re.sub(r'\\s+', ' ', x).strip())"
   ]
  },
  {
   "cell_type": "code",
   "execution_count": 10,
   "id": "7bfca26b",
   "metadata": {
    "execution": {
     "iopub.execute_input": "2025-04-09T14:50:06.962338Z",
     "iopub.status.busy": "2025-04-09T14:50:06.961923Z",
     "iopub.status.idle": "2025-04-09T14:50:06.971054Z",
     "shell.execute_reply": "2025-04-09T14:50:06.970028Z"
    },
    "papermill": {
     "duration": 0.020854,
     "end_time": "2025-04-09T14:50:06.972521",
     "exception": false,
     "start_time": "2025-04-09T14:50:06.951667",
     "status": "completed"
    },
    "tags": []
   },
   "outputs": [
    {
     "data": {
      "text/html": [
       "<div>\n",
       "<style scoped>\n",
       "    .dataframe tbody tr th:only-of-type {\n",
       "        vertical-align: middle;\n",
       "    }\n",
       "\n",
       "    .dataframe tbody tr th {\n",
       "        vertical-align: top;\n",
       "    }\n",
       "\n",
       "    .dataframe thead th {\n",
       "        text-align: right;\n",
       "    }\n",
       "</style>\n",
       "<table border=\"1\" class=\"dataframe\">\n",
       "  <thead>\n",
       "    <tr style=\"text-align: right;\">\n",
       "      <th></th>\n",
       "      <th>Sentences</th>\n",
       "      <th>Target</th>\n",
       "    </tr>\n",
       "  </thead>\n",
       "  <tbody>\n",
       "    <tr>\n",
       "      <th>0</th>\n",
       "      <td>As investors watched the US stock market take ...</td>\n",
       "      <td>0</td>\n",
       "    </tr>\n",
       "    <tr>\n",
       "      <th>1</th>\n",
       "      <td>Trump himself said markets would boom under hi...</td>\n",
       "      <td>2</td>\n",
       "    </tr>\n",
       "    <tr>\n",
       "      <th>2</th>\n",
       "      <td>Twentyfour hours after Trump imposed minimum 1...</td>\n",
       "      <td>1</td>\n",
       "    </tr>\n",
       "    <tr>\n",
       "      <th>3</th>\n",
       "      <td>Canadian Prime Minister Mark Carney retaliated...</td>\n",
       "      <td>0</td>\n",
       "    </tr>\n",
       "    <tr>\n",
       "      <th>4</th>\n",
       "      <td>In contrast Mexican President Claudia Sheinbau...</td>\n",
       "      <td>1</td>\n",
       "    </tr>\n",
       "  </tbody>\n",
       "</table>\n",
       "</div>"
      ],
      "text/plain": [
       "                                           Sentences  Target\n",
       "0  As investors watched the US stock market take ...       0\n",
       "1  Trump himself said markets would boom under hi...       2\n",
       "2  Twentyfour hours after Trump imposed minimum 1...       1\n",
       "3  Canadian Prime Minister Mark Carney retaliated...       0\n",
       "4  In contrast Mexican President Claudia Sheinbau...       1"
      ]
     },
     "execution_count": 10,
     "metadata": {},
     "output_type": "execute_result"
    }
   ],
   "source": [
    "# observing the changes \n",
    "scraped_data.head()"
   ]
  },
  {
   "cell_type": "code",
   "execution_count": 11,
   "id": "adbb02cc",
   "metadata": {
    "execution": {
     "iopub.execute_input": "2025-04-09T14:50:06.991342Z",
     "iopub.status.busy": "2025-04-09T14:50:06.990964Z",
     "iopub.status.idle": "2025-04-09T14:50:06.996055Z",
     "shell.execute_reply": "2025-04-09T14:50:06.994890Z"
    },
    "papermill": {
     "duration": 0.016459,
     "end_time": "2025-04-09T14:50:06.998063",
     "exception": false,
     "start_time": "2025-04-09T14:50:06.981604",
     "status": "completed"
    },
    "tags": []
   },
   "outputs": [],
   "source": [
    "# making all enteries in column 'sentences' a string \n",
    "scraped_data['Sentences'] = scraped_data['Sentences'].astype(str)"
   ]
  },
  {
   "cell_type": "code",
   "execution_count": 12,
   "id": "b6ccb063",
   "metadata": {
    "execution": {
     "iopub.execute_input": "2025-04-09T14:50:07.018255Z",
     "iopub.status.busy": "2025-04-09T14:50:07.017838Z",
     "iopub.status.idle": "2025-04-09T14:50:07.024505Z",
     "shell.execute_reply": "2025-04-09T14:50:07.023521Z"
    },
    "papermill": {
     "duration": 0.018714,
     "end_time": "2025-04-09T14:50:07.026117",
     "exception": false,
     "start_time": "2025-04-09T14:50:07.007403",
     "status": "completed"
    },
    "tags": []
   },
   "outputs": [
    {
     "data": {
      "text/plain": [
       "dtype('O')"
      ]
     },
     "execution_count": 12,
     "metadata": {},
     "output_type": "execute_result"
    }
   ],
   "source": [
    "scraped_data['Sentences'].dtype"
   ]
  },
  {
   "cell_type": "code",
   "execution_count": 13,
   "id": "c05ee034",
   "metadata": {
    "execution": {
     "iopub.execute_input": "2025-04-09T14:50:07.045498Z",
     "iopub.status.busy": "2025-04-09T14:50:07.045054Z",
     "iopub.status.idle": "2025-04-09T14:50:08.521735Z",
     "shell.execute_reply": "2025-04-09T14:50:08.520323Z"
    },
    "papermill": {
     "duration": 1.489143,
     "end_time": "2025-04-09T14:50:08.524192",
     "exception": false,
     "start_time": "2025-04-09T14:50:07.035049",
     "status": "completed"
    },
    "tags": []
   },
   "outputs": [],
   "source": [
    "# off to count vectorization \n",
    "import pandas as pd \n",
    "from sklearn.feature_extraction.text import CountVectorizer\n",
    "\n",
    "Tokenized = CountVectorizer()\n",
    "\n",
    "Vectorized_Data = Tokenized.fit_transform(scraped_data['Sentences'])\n",
    "\n",
    "# to create a new dataframe for the vectorized sentences.\n",
    "Vectorized_DataFrame = pd.DataFrame(Vectorized_Data.toarray(), columns=Tokenized.get_feature_names_out())\n"
   ]
  },
  {
   "cell_type": "code",
   "execution_count": 14,
   "id": "43d02bdf",
   "metadata": {
    "execution": {
     "iopub.execute_input": "2025-04-09T14:50:08.544038Z",
     "iopub.status.busy": "2025-04-09T14:50:08.543376Z",
     "iopub.status.idle": "2025-04-09T14:50:08.556099Z",
     "shell.execute_reply": "2025-04-09T14:50:08.554939Z"
    },
    "papermill": {
     "duration": 0.024693,
     "end_time": "2025-04-09T14:50:08.558268",
     "exception": false,
     "start_time": "2025-04-09T14:50:08.533575",
     "status": "completed"
    },
    "tags": []
   },
   "outputs": [],
   "source": [
    "# I want the vectorized data back in the original dataset 'scraped_data'\n",
    "Vectorized_DataFrame = pd.DataFrame(Vectorized_Data.toarray(), columns=Tokenized.get_feature_names_out())\n",
    "\n",
    "# dropping the sormer sentences column \n",
    "scraped_data = scraped_data.drop(columns=['Sentences'])\n",
    "\n",
    "scraped_data = pd.concat([scraped_data, Vectorized_DataFrame], axis=1)\n"
   ]
  },
  {
   "cell_type": "code",
   "execution_count": 15,
   "id": "8fe47cfd",
   "metadata": {
    "collapsed": true,
    "execution": {
     "iopub.execute_input": "2025-04-09T14:50:08.577103Z",
     "iopub.status.busy": "2025-04-09T14:50:08.576667Z",
     "iopub.status.idle": "2025-04-09T14:50:08.590426Z",
     "shell.execute_reply": "2025-04-09T14:50:08.589113Z"
    },
    "jupyter": {
     "outputs_hidden": true
    },
    "papermill": {
     "duration": 0.025304,
     "end_time": "2025-04-09T14:50:08.592422",
     "exception": false,
     "start_time": "2025-04-09T14:50:08.567118",
     "status": "completed"
    },
    "tags": []
   },
   "outputs": [
    {
     "data": {
      "text/plain": [
       "<bound method NDFrame.describe of      Target  10  1000  100000  10th  11  14  15  1500  15cm  ...  year  years  \\\n",
       "0         0   0     0       0     0   0   0   0     0     0  ...     0      0   \n",
       "1         2   0     0       0     0   0   0   0     0     0  ...     0      0   \n",
       "2         1   1     0       0     0   0   0   0     0     0  ...     0      0   \n",
       "3         0   0     0       0     0   0   0   0     0     0  ...     0      0   \n",
       "4         1   0     0       0     0   0   0   0     0     0  ...     0      0   \n",
       "..      ...  ..   ...     ...   ...  ..  ..  ..   ...   ...  ...   ...    ...   \n",
       "199       0   0     0       0     0   0   0   0     0     0  ...     0      1   \n",
       "200       2   0     0       0     0   0   0   0     0     0  ...     0      0   \n",
       "201       0   0     0       0     0   0   0   0     0     0  ...     0      0   \n",
       "202       0   0     0       0     0   0   0   1     0     0  ...     0      0   \n",
       "203       0   0     0       0     0   0   0   0     0     0  ...     0      0   \n",
       "\n",
       "     yellow  yet  you  young  youngest  your  youre  zero  \n",
       "0         0    0    0      0         0     0      0     0  \n",
       "1         0    0    0      0         0     0      0     0  \n",
       "2         0    0    0      0         0     0      0     0  \n",
       "3         0    0    0      0         0     0      0     0  \n",
       "4         0    0    0      0         0     0      0     0  \n",
       "..      ...  ...  ...    ...       ...   ...    ...   ...  \n",
       "199       0    0    0      0         0     0      0     0  \n",
       "200       0    0    0      0         0     0      0     0  \n",
       "201       0    0    0      0         0     0      0     0  \n",
       "202       0    0    0      0         0     0      0     0  \n",
       "203       0    0    0      0         0     0      0     0  \n",
       "\n",
       "[204 rows x 1609 columns]>"
      ]
     },
     "execution_count": 15,
     "metadata": {},
     "output_type": "execute_result"
    }
   ],
   "source": [
    "scraped_data.describe"
   ]
  },
  {
   "cell_type": "code",
   "execution_count": 16,
   "id": "a8181834",
   "metadata": {
    "execution": {
     "iopub.execute_input": "2025-04-09T14:50:08.612567Z",
     "iopub.status.busy": "2025-04-09T14:50:08.612166Z",
     "iopub.status.idle": "2025-04-09T14:50:08.837866Z",
     "shell.execute_reply": "2025-04-09T14:50:08.836529Z"
    },
    "papermill": {
     "duration": 0.238113,
     "end_time": "2025-04-09T14:50:08.840164",
     "exception": false,
     "start_time": "2025-04-09T14:50:08.602051",
     "status": "completed"
    },
    "tags": []
   },
   "outputs": [],
   "source": [
    "# I'm proceeding to train the model \n",
    "from sklearn.linear_model import LogisticRegression\n",
    "from sklearn.model_selection import train_test_split\n",
    "\n",
    "# defining my features \n",
    "features_selected = X = scraped_data.drop(columns=['Target'])\n",
    "X = features_selected \n",
    "\n",
    "y = scraped_data.Target"
   ]
  },
  {
   "cell_type": "code",
   "execution_count": 17,
   "id": "e58e1062",
   "metadata": {
    "collapsed": true,
    "execution": {
     "iopub.execute_input": "2025-04-09T14:50:08.860590Z",
     "iopub.status.busy": "2025-04-09T14:50:08.860231Z",
     "iopub.status.idle": "2025-04-09T14:50:08.875721Z",
     "shell.execute_reply": "2025-04-09T14:50:08.874674Z"
    },
    "jupyter": {
     "outputs_hidden": true
    },
    "papermill": {
     "duration": 0.027884,
     "end_time": "2025-04-09T14:50:08.877508",
     "exception": false,
     "start_time": "2025-04-09T14:50:08.849624",
     "status": "completed"
    },
    "tags": []
   },
   "outputs": [
    {
     "data": {
      "text/html": [
       "<div>\n",
       "<style scoped>\n",
       "    .dataframe tbody tr th:only-of-type {\n",
       "        vertical-align: middle;\n",
       "    }\n",
       "\n",
       "    .dataframe tbody tr th {\n",
       "        vertical-align: top;\n",
       "    }\n",
       "\n",
       "    .dataframe thead th {\n",
       "        text-align: right;\n",
       "    }\n",
       "</style>\n",
       "<table border=\"1\" class=\"dataframe\">\n",
       "  <thead>\n",
       "    <tr style=\"text-align: right;\">\n",
       "      <th></th>\n",
       "      <th>10</th>\n",
       "      <th>1000</th>\n",
       "      <th>100000</th>\n",
       "      <th>10th</th>\n",
       "      <th>11</th>\n",
       "      <th>14</th>\n",
       "      <th>15</th>\n",
       "      <th>1500</th>\n",
       "      <th>15cm</th>\n",
       "      <th>16</th>\n",
       "      <th>...</th>\n",
       "      <th>year</th>\n",
       "      <th>years</th>\n",
       "      <th>yellow</th>\n",
       "      <th>yet</th>\n",
       "      <th>you</th>\n",
       "      <th>young</th>\n",
       "      <th>youngest</th>\n",
       "      <th>your</th>\n",
       "      <th>youre</th>\n",
       "      <th>zero</th>\n",
       "    </tr>\n",
       "  </thead>\n",
       "  <tbody>\n",
       "    <tr>\n",
       "      <th>0</th>\n",
       "      <td>0</td>\n",
       "      <td>0</td>\n",
       "      <td>0</td>\n",
       "      <td>0</td>\n",
       "      <td>0</td>\n",
       "      <td>0</td>\n",
       "      <td>0</td>\n",
       "      <td>0</td>\n",
       "      <td>0</td>\n",
       "      <td>0</td>\n",
       "      <td>...</td>\n",
       "      <td>0</td>\n",
       "      <td>0</td>\n",
       "      <td>0</td>\n",
       "      <td>0</td>\n",
       "      <td>0</td>\n",
       "      <td>0</td>\n",
       "      <td>0</td>\n",
       "      <td>0</td>\n",
       "      <td>0</td>\n",
       "      <td>0</td>\n",
       "    </tr>\n",
       "    <tr>\n",
       "      <th>1</th>\n",
       "      <td>0</td>\n",
       "      <td>0</td>\n",
       "      <td>0</td>\n",
       "      <td>0</td>\n",
       "      <td>0</td>\n",
       "      <td>0</td>\n",
       "      <td>0</td>\n",
       "      <td>0</td>\n",
       "      <td>0</td>\n",
       "      <td>0</td>\n",
       "      <td>...</td>\n",
       "      <td>0</td>\n",
       "      <td>0</td>\n",
       "      <td>0</td>\n",
       "      <td>0</td>\n",
       "      <td>0</td>\n",
       "      <td>0</td>\n",
       "      <td>0</td>\n",
       "      <td>0</td>\n",
       "      <td>0</td>\n",
       "      <td>0</td>\n",
       "    </tr>\n",
       "    <tr>\n",
       "      <th>2</th>\n",
       "      <td>1</td>\n",
       "      <td>0</td>\n",
       "      <td>0</td>\n",
       "      <td>0</td>\n",
       "      <td>0</td>\n",
       "      <td>0</td>\n",
       "      <td>0</td>\n",
       "      <td>0</td>\n",
       "      <td>0</td>\n",
       "      <td>0</td>\n",
       "      <td>...</td>\n",
       "      <td>0</td>\n",
       "      <td>0</td>\n",
       "      <td>0</td>\n",
       "      <td>0</td>\n",
       "      <td>0</td>\n",
       "      <td>0</td>\n",
       "      <td>0</td>\n",
       "      <td>0</td>\n",
       "      <td>0</td>\n",
       "      <td>0</td>\n",
       "    </tr>\n",
       "    <tr>\n",
       "      <th>3</th>\n",
       "      <td>0</td>\n",
       "      <td>0</td>\n",
       "      <td>0</td>\n",
       "      <td>0</td>\n",
       "      <td>0</td>\n",
       "      <td>0</td>\n",
       "      <td>0</td>\n",
       "      <td>0</td>\n",
       "      <td>0</td>\n",
       "      <td>0</td>\n",
       "      <td>...</td>\n",
       "      <td>0</td>\n",
       "      <td>0</td>\n",
       "      <td>0</td>\n",
       "      <td>0</td>\n",
       "      <td>0</td>\n",
       "      <td>0</td>\n",
       "      <td>0</td>\n",
       "      <td>0</td>\n",
       "      <td>0</td>\n",
       "      <td>0</td>\n",
       "    </tr>\n",
       "    <tr>\n",
       "      <th>4</th>\n",
       "      <td>0</td>\n",
       "      <td>0</td>\n",
       "      <td>0</td>\n",
       "      <td>0</td>\n",
       "      <td>0</td>\n",
       "      <td>0</td>\n",
       "      <td>0</td>\n",
       "      <td>0</td>\n",
       "      <td>0</td>\n",
       "      <td>0</td>\n",
       "      <td>...</td>\n",
       "      <td>0</td>\n",
       "      <td>0</td>\n",
       "      <td>0</td>\n",
       "      <td>0</td>\n",
       "      <td>0</td>\n",
       "      <td>0</td>\n",
       "      <td>0</td>\n",
       "      <td>0</td>\n",
       "      <td>0</td>\n",
       "      <td>0</td>\n",
       "    </tr>\n",
       "  </tbody>\n",
       "</table>\n",
       "<p>5 rows × 1608 columns</p>\n",
       "</div>"
      ],
      "text/plain": [
       "   10  1000  100000  10th  11  14  15  1500  15cm  16  ...  year  years  \\\n",
       "0   0     0       0     0   0   0   0     0     0   0  ...     0      0   \n",
       "1   0     0       0     0   0   0   0     0     0   0  ...     0      0   \n",
       "2   1     0       0     0   0   0   0     0     0   0  ...     0      0   \n",
       "3   0     0       0     0   0   0   0     0     0   0  ...     0      0   \n",
       "4   0     0       0     0   0   0   0     0     0   0  ...     0      0   \n",
       "\n",
       "   yellow  yet  you  young  youngest  your  youre  zero  \n",
       "0       0    0    0      0         0     0      0     0  \n",
       "1       0    0    0      0         0     0      0     0  \n",
       "2       0    0    0      0         0     0      0     0  \n",
       "3       0    0    0      0         0     0      0     0  \n",
       "4       0    0    0      0         0     0      0     0  \n",
       "\n",
       "[5 rows x 1608 columns]"
      ]
     },
     "execution_count": 17,
     "metadata": {},
     "output_type": "execute_result"
    }
   ],
   "source": [
    "X.head()"
   ]
  },
  {
   "cell_type": "code",
   "execution_count": 18,
   "id": "9287beed",
   "metadata": {
    "collapsed": true,
    "execution": {
     "iopub.execute_input": "2025-04-09T14:50:08.897591Z",
     "iopub.status.busy": "2025-04-09T14:50:08.897219Z",
     "iopub.status.idle": "2025-04-09T14:50:08.904197Z",
     "shell.execute_reply": "2025-04-09T14:50:08.902901Z"
    },
    "jupyter": {
     "outputs_hidden": true
    },
    "papermill": {
     "duration": 0.019068,
     "end_time": "2025-04-09T14:50:08.906042",
     "exception": false,
     "start_time": "2025-04-09T14:50:08.886974",
     "status": "completed"
    },
    "tags": []
   },
   "outputs": [
    {
     "data": {
      "text/plain": [
       "0    0\n",
       "1    2\n",
       "2    1\n",
       "3    0\n",
       "4    1\n",
       "Name: Target, dtype: int64"
      ]
     },
     "execution_count": 18,
     "metadata": {},
     "output_type": "execute_result"
    }
   ],
   "source": [
    "y.head()"
   ]
  },
  {
   "cell_type": "code",
   "execution_count": 19,
   "id": "73c3f8d9",
   "metadata": {
    "execution": {
     "iopub.execute_input": "2025-04-09T14:50:08.926579Z",
     "iopub.status.busy": "2025-04-09T14:50:08.926199Z",
     "iopub.status.idle": "2025-04-09T14:50:09.047048Z",
     "shell.execute_reply": "2025-04-09T14:50:09.045899Z"
    },
    "papermill": {
     "duration": 0.13337,
     "end_time": "2025-04-09T14:50:09.048877",
     "exception": false,
     "start_time": "2025-04-09T14:50:08.915507",
     "status": "completed"
    },
    "tags": []
   },
   "outputs": [
    {
     "data": {
      "text/html": [
       "<style>#sk-container-id-1 {color: black;background-color: white;}#sk-container-id-1 pre{padding: 0;}#sk-container-id-1 div.sk-toggleable {background-color: white;}#sk-container-id-1 label.sk-toggleable__label {cursor: pointer;display: block;width: 100%;margin-bottom: 0;padding: 0.3em;box-sizing: border-box;text-align: center;}#sk-container-id-1 label.sk-toggleable__label-arrow:before {content: \"▸\";float: left;margin-right: 0.25em;color: #696969;}#sk-container-id-1 label.sk-toggleable__label-arrow:hover:before {color: black;}#sk-container-id-1 div.sk-estimator:hover label.sk-toggleable__label-arrow:before {color: black;}#sk-container-id-1 div.sk-toggleable__content {max-height: 0;max-width: 0;overflow: hidden;text-align: left;background-color: #f0f8ff;}#sk-container-id-1 div.sk-toggleable__content pre {margin: 0.2em;color: black;border-radius: 0.25em;background-color: #f0f8ff;}#sk-container-id-1 input.sk-toggleable__control:checked~div.sk-toggleable__content {max-height: 200px;max-width: 100%;overflow: auto;}#sk-container-id-1 input.sk-toggleable__control:checked~label.sk-toggleable__label-arrow:before {content: \"▾\";}#sk-container-id-1 div.sk-estimator input.sk-toggleable__control:checked~label.sk-toggleable__label {background-color: #d4ebff;}#sk-container-id-1 div.sk-label input.sk-toggleable__control:checked~label.sk-toggleable__label {background-color: #d4ebff;}#sk-container-id-1 input.sk-hidden--visually {border: 0;clip: rect(1px 1px 1px 1px);clip: rect(1px, 1px, 1px, 1px);height: 1px;margin: -1px;overflow: hidden;padding: 0;position: absolute;width: 1px;}#sk-container-id-1 div.sk-estimator {font-family: monospace;background-color: #f0f8ff;border: 1px dotted black;border-radius: 0.25em;box-sizing: border-box;margin-bottom: 0.5em;}#sk-container-id-1 div.sk-estimator:hover {background-color: #d4ebff;}#sk-container-id-1 div.sk-parallel-item::after {content: \"\";width: 100%;border-bottom: 1px solid gray;flex-grow: 1;}#sk-container-id-1 div.sk-label:hover label.sk-toggleable__label {background-color: #d4ebff;}#sk-container-id-1 div.sk-serial::before {content: \"\";position: absolute;border-left: 1px solid gray;box-sizing: border-box;top: 0;bottom: 0;left: 50%;z-index: 0;}#sk-container-id-1 div.sk-serial {display: flex;flex-direction: column;align-items: center;background-color: white;padding-right: 0.2em;padding-left: 0.2em;position: relative;}#sk-container-id-1 div.sk-item {position: relative;z-index: 1;}#sk-container-id-1 div.sk-parallel {display: flex;align-items: stretch;justify-content: center;background-color: white;position: relative;}#sk-container-id-1 div.sk-item::before, #sk-container-id-1 div.sk-parallel-item::before {content: \"\";position: absolute;border-left: 1px solid gray;box-sizing: border-box;top: 0;bottom: 0;left: 50%;z-index: -1;}#sk-container-id-1 div.sk-parallel-item {display: flex;flex-direction: column;z-index: 1;position: relative;background-color: white;}#sk-container-id-1 div.sk-parallel-item:first-child::after {align-self: flex-end;width: 50%;}#sk-container-id-1 div.sk-parallel-item:last-child::after {align-self: flex-start;width: 50%;}#sk-container-id-1 div.sk-parallel-item:only-child::after {width: 0;}#sk-container-id-1 div.sk-dashed-wrapped {border: 1px dashed gray;margin: 0 0.4em 0.5em 0.4em;box-sizing: border-box;padding-bottom: 0.4em;background-color: white;}#sk-container-id-1 div.sk-label label {font-family: monospace;font-weight: bold;display: inline-block;line-height: 1.2em;}#sk-container-id-1 div.sk-label-container {text-align: center;}#sk-container-id-1 div.sk-container {/* jupyter's `normalize.less` sets `[hidden] { display: none; }` but bootstrap.min.css set `[hidden] { display: none !important; }` so we also need the `!important` here to be able to override the default hidden behavior on the sphinx rendered scikit-learn.org. See: https://github.com/scikit-learn/scikit-learn/issues/21755 */display: inline-block !important;position: relative;}#sk-container-id-1 div.sk-text-repr-fallback {display: none;}</style><div id=\"sk-container-id-1\" class=\"sk-top-container\"><div class=\"sk-text-repr-fallback\"><pre>LogisticRegression(class_weight=&#x27;balanced&#x27;, random_state=15)</pre><b>In a Jupyter environment, please rerun this cell to show the HTML representation or trust the notebook. <br />On GitHub, the HTML representation is unable to render, please try loading this page with nbviewer.org.</b></div><div class=\"sk-container\" hidden><div class=\"sk-item\"><div class=\"sk-estimator sk-toggleable\"><input class=\"sk-toggleable__control sk-hidden--visually\" id=\"sk-estimator-id-1\" type=\"checkbox\" checked><label for=\"sk-estimator-id-1\" class=\"sk-toggleable__label sk-toggleable__label-arrow\">LogisticRegression</label><div class=\"sk-toggleable__content\"><pre>LogisticRegression(class_weight=&#x27;balanced&#x27;, random_state=15)</pre></div></div></div></div></div>"
      ],
      "text/plain": [
       "LogisticRegression(class_weight='balanced', random_state=15)"
      ]
     },
     "execution_count": 19,
     "metadata": {},
     "output_type": "execute_result"
    }
   ],
   "source": [
    "# splitting my data\n",
    "from sklearn.model_selection import train_test_split\n",
    "\n",
    "X_train, X_val, y_train, y_val = train_test_split(X, y, train_size=0.8, test_size=0.2, random_state=1)\n",
    "\n",
    "# training the model, LFG!!!\n",
    "model = LogisticRegression(class_weight ='balanced', random_state = 15)\n",
    "\n",
    "model.fit(X_train, y_train)"
   ]
  },
  {
   "cell_type": "code",
   "execution_count": 20,
   "id": "40bfe25a",
   "metadata": {
    "execution": {
     "iopub.execute_input": "2025-04-09T14:50:09.070651Z",
     "iopub.status.busy": "2025-04-09T14:50:09.070245Z",
     "iopub.status.idle": "2025-04-09T14:50:09.118127Z",
     "shell.execute_reply": "2025-04-09T14:50:09.116978Z"
    },
    "papermill": {
     "duration": 0.060778,
     "end_time": "2025-04-09T14:50:09.120367",
     "exception": false,
     "start_time": "2025-04-09T14:50:09.059589",
     "status": "completed"
    },
    "tags": []
   },
   "outputs": [],
   "source": [
    "y_train_pred = model.predict(X_train)\n",
    "y_val_pred = model.predict(X_val)"
   ]
  },
  {
   "cell_type": "code",
   "execution_count": 21,
   "id": "5344c919",
   "metadata": {
    "execution": {
     "iopub.execute_input": "2025-04-09T14:50:09.143633Z",
     "iopub.status.busy": "2025-04-09T14:50:09.143239Z",
     "iopub.status.idle": "2025-04-09T14:50:09.171960Z",
     "shell.execute_reply": "2025-04-09T14:50:09.170736Z"
    },
    "papermill": {
     "duration": 0.041,
     "end_time": "2025-04-09T14:50:09.173632",
     "exception": false,
     "start_time": "2025-04-09T14:50:09.132632",
     "status": "completed"
    },
    "tags": []
   },
   "outputs": [
    {
     "name": "stdout",
     "output_type": "stream",
     "text": [
      "0.5609756097560976\n"
     ]
    }
   ],
   "source": [
    "accuracy = model.score(X_val, y_val)\n",
    "print(accuracy)"
   ]
  },
  {
   "cell_type": "code",
   "execution_count": 22,
   "id": "4912fb4f",
   "metadata": {
    "execution": {
     "iopub.execute_input": "2025-04-09T14:50:09.194289Z",
     "iopub.status.busy": "2025-04-09T14:50:09.193923Z",
     "iopub.status.idle": "2025-04-09T14:50:10.088973Z",
     "shell.execute_reply": "2025-04-09T14:50:10.087827Z"
    },
    "papermill": {
     "duration": 0.907446,
     "end_time": "2025-04-09T14:50:10.090824",
     "exception": false,
     "start_time": "2025-04-09T14:50:09.183378",
     "status": "completed"
    },
    "tags": []
   },
   "outputs": [
    {
     "data": {
      "image/png": "[encoded data removed]",
      "text/plain": [
       "<Figure size 640x480 with 1 Axes>"
      ]
     },
     "metadata": {},
     "output_type": "display_data"
    }
   ],
   "source": [
    "# i need to check if my data is imbalanced\n",
    "\n",
    "scraped_data['Target'].value_counts()\n",
    "\n",
    "# still on visualization \n",
    "import matplotlib.pyplot as plt\n",
    "import seaborn as sns\n",
    "\n",
    "skewness = scraped_data['Target'].value_counts()\n",
    "sns.countplot(x ='Target', data = scraped_data)\n",
    "plt.show()\n"
   ]
  },
  {
   "cell_type": "code",
   "execution_count": null,
   "id": "f23b5315",
   "metadata": {
    "papermill": {
     "duration": 0.008913,
     "end_time": "2025-04-09T14:50:10.109470",
     "exception": false,
     "start_time": "2025-04-09T14:50:10.100557",
     "status": "completed"
    },
    "tags": []
   },
   "outputs": [],
   "source": []
  }
 ],
 "metadata": {
  "kaggle": {
   "accelerator": "none",
   "dataSources": [
    {
     "datasetId": 7094667,
     "sourceId": 11340248,
     "sourceType": "datasetVersion"
    }
   ],
   "isGpuEnabled": false,
   "isInternetEnabled": true,
   "language": "python",
   "sourceType": "notebook"
  },
  "kernelspec": {
   "display_name": "Python 3",
   "language": "python",
   "name": "python3"
  },
  "language_info": {
   "codemirror_mode": {
    "name": "ipython",
    "version": 3
   },
   "file_extension": ".py",
   "mimetype": "text/x-python",
   "name": "python",
   "nbconvert_exporter": "python",
   "pygments_lexer": "ipython3",
   "version": "3.10.12"
  },
  "papermill": {
   "default_parameters": {},
   "duration": 34.353861,
   "end_time": "2025-04-09T14:50:11.144205",
   "environment_variables": {},
   "exception": null,
   "input_path": "__notebook__.ipynb",
   "output_path": "__notebook__.ipynb",
   "parameters": {},
   "start_time": "2025-04-09T14:49:36.790344",
   "version": "2.6.0"
  }
 },
 "nbformat": 4,
 "nbformat_minor": 5
}
